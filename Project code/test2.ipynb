{
 "cells": [
  {
   "metadata": {
    "ExecuteTime": {
     "end_time": "2024-11-05T01:21:10.680045Z",
     "start_time": "2024-11-05T01:21:10.673979Z"
    }
   },
   "cell_type": "code",
   "source": [
    "import json\n",
    "from tg_controller import handler  # Убедитесь, что путь к tg_controller.py корректен\n",
    "\n",
    "def test_handler_with_webhook(fake_event):\n",
    "    # Структура данных, имитирующая сообщение от Telegram\n",
    "\n",
    "    # Webhook context обычно не используется, но его нужно предоставить\n",
    "    fake_context = {}\n",
    "\n",
    "    # Вызов функции handler с тестовыми данными\n",
    "    response = handler(fake_event, fake_context)\n",
    "\n",
    "    # Печать результатов обработки\n",
    "    print(\"Handler response:\", response)"
   ],
   "id": "e4c51433d2880c95",
   "outputs": [],
   "execution_count": 5
  },
  {
   "metadata": {
    "ExecuteTime": {
     "end_time": "2024-11-05T01:21:12.744841Z",
     "start_time": "2024-11-05T01:21:12.742477Z"
    }
   },
   "cell_type": "code",
   "source": [
    "fake_event_test = {\n",
    "    'body': json.dumps({\n",
    "        'message': {\n",
    "            'chat': {\n",
    "                'id': 505096036\n",
    "            },\n",
    "            'text': '/start'\n",
    "        }\n",
    "    })\n",
    "}"
   ],
   "id": "c986face0fe19881",
   "outputs": [],
   "execution_count": 6
  },
  {
   "metadata": {
    "ExecuteTime": {
     "end_time": "2024-11-05T04:20:18.877282Z",
     "start_time": "2024-11-05T04:20:18.346838Z"
    }
   },
   "cell_type": "code",
   "source": "from main import *",
   "id": "85e5e2af00594e1",
   "outputs": [
    {
     "name": "stderr",
     "output_type": "stream",
     "text": [
      "/Library/Python/3.9/site-packages/urllib3/__init__.py:35: NotOpenSSLWarning: urllib3 v2 only supports OpenSSL 1.1.1+, currently the 'ssl' module is compiled with 'LibreSSL 2.8.3'. See: https://github.com/urllib3/urllib3/issues/3020\n",
      "  warnings.warn(\n"
     ]
    }
   ],
   "execution_count": 1
  },
  {
   "metadata": {
    "ExecuteTime": {
     "end_time": "2024-11-05T04:17:13.318854Z",
     "start_time": "2024-11-05T04:17:13.314852Z"
    }
   },
   "cell_type": "code",
   "source": "from db_controller import check_user_exists, connect_db",
   "id": "70f7927910104d3d",
   "outputs": [],
   "execution_count": 2
  },
  {
   "metadata": {
    "ExecuteTime": {
     "end_time": "2024-11-05T01:50:17.730447Z",
     "start_time": "2024-11-05T01:50:17.344819Z"
    }
   },
   "cell_type": "code",
   "source": "handle_add_shiki_command(505096036)",
   "id": "382101e5db4764f",
   "outputs": [],
   "execution_count": 5
  },
  {
   "metadata": {
    "ExecuteTime": {
     "end_time": "2024-11-05T01:50:22.748725Z",
     "start_time": "2024-11-05T01:50:21.986309Z"
    }
   },
   "cell_type": "code",
   "source": "handle_message(505096036, '124335')",
   "id": "aaa26f39552e6f19",
   "outputs": [],
   "execution_count": 6
  },
  {
   "metadata": {
    "ExecuteTime": {
     "end_time": "2024-11-05T04:17:21.951844Z",
     "start_time": "2024-11-05T04:17:21.584986Z"
    }
   },
   "cell_type": "code",
   "source": "driver_test = connect_db()",
   "id": "c4dd2a2dd549fbc0",
   "outputs": [],
   "execution_count": 3
  },
  {
   "metadata": {
    "ExecuteTime": {
     "end_time": "2024-11-05T04:20:28.387222Z",
     "start_time": "2024-11-05T04:20:28.382958Z"
    }
   },
   "cell_type": "code",
   "source": [
    "chat_id = 505096036\n",
    "#chat_id = 231231"
   ],
   "id": "27fa44282f33f3ec",
   "outputs": [],
   "execution_count": 2
  },
  {
   "metadata": {
    "ExecuteTime": {
     "end_time": "2024-11-05T03:47:16.289016Z",
     "start_time": "2024-11-05T03:47:16.179002Z"
    }
   },
   "cell_type": "code",
   "source": "user_info = check_user_exists(driver_test, chat_id)",
   "id": "6e1c6c0bdcbefb",
   "outputs": [],
   "execution_count": 5
  },
  {
   "metadata": {
    "ExecuteTime": {
     "end_time": "2024-11-05T03:47:32.966820Z",
     "start_time": "2024-11-05T03:47:32.962111Z"
    }
   },
   "cell_type": "code",
   "source": [
    "last_updated = user_info[0].get('last_updated')\n",
    "shikimori_username = user_info[0].get('shikimori_username')\n",
    "if isinstance(shikimori_username, bytes):\n",
    "    shikimori_username = shikimori_username.decode('utf-8')\n",
    "current_time = datetime.now(timezone.utc)\n",
    "seconds_since_epoch = int(current_time.timestamp())"
   ],
   "id": "9a4d181d0ad544ef",
   "outputs": [],
   "execution_count": 6
  },
  {
   "metadata": {
    "ExecuteTime": {
     "end_time": "2024-11-05T02:44:39.077797Z",
     "start_time": "2024-11-05T02:44:39.069501Z"
    }
   },
   "cell_type": "code",
   "source": "(seconds_since_epoch - last_updated) > 86400",
   "id": "316d1e0d38d6ca3",
   "outputs": [
    {
     "data": {
      "text/plain": [
       "True"
      ]
     },
     "execution_count": 7,
     "metadata": {},
     "output_type": "execute_result"
    }
   ],
   "execution_count": 7
  },
  {
   "metadata": {
    "ExecuteTime": {
     "end_time": "2024-11-05T03:47:48.083368Z",
     "start_time": "2024-11-05T03:47:38.822861Z"
    }
   },
   "cell_type": "code",
   "source": "user_anime_list = get_user_anime_list(shikimori_username)",
   "id": "d47220c74807afcc",
   "outputs": [],
   "execution_count": 7
  },
  {
   "metadata": {
    "ExecuteTime": {
     "end_time": "2024-11-05T03:48:17.929927Z",
     "start_time": "2024-11-05T03:47:59.913607Z"
    }
   },
   "cell_type": "code",
   "source": "load_user_anime_list(driver_test, chat_id, user_anime_list)",
   "id": "825603849388ed0e",
   "outputs": [
    {
     "name": "stdout",
     "output_type": "stream",
     "text": [
      "Error processing animes: position { row: 5 column: 31 } message: \"Unexpected token absence : Missing RPAREN \\n\" end_position { row: 5 column: 31 } severity: 1 (server_code: 400080)\n"
     ]
    },
    {
     "ename": "PreconditionFailed",
     "evalue": "Failed to perform action on broken transaction context!",
     "output_type": "error",
     "traceback": [
      "\u001B[0;31m---------------------------------------------------------------------------\u001B[0m",
      "\u001B[0;31mGenericError\u001B[0m                              Traceback (most recent call last)",
      "File \u001B[0;32m~/Documents/Masters/2d year/SysAnal/Modular task/db_controller.py:169\u001B[0m, in \u001B[0;36mload_user_anime_list\u001B[0;34m(driver, chat_id, user_anime_list)\u001B[0m\n\u001B[1;32m    156\u001B[0m     anime_query \u001B[38;5;241m=\u001B[39m \u001B[38;5;124mf\u001B[39m\u001B[38;5;124m\"\"\"\u001B[39m\n\u001B[1;32m    157\u001B[0m \u001B[38;5;124m    INSERT INTO anime (anime_id, title, average_score, geners, type, episode_duration, episode_count, poster_url)\u001B[39m\n\u001B[1;32m    158\u001B[0m \u001B[38;5;124m    VALUES (\u001B[39m\n\u001B[0;32m   (...)\u001B[0m\n\u001B[1;32m    167\u001B[0m \u001B[38;5;124m    )\u001B[39m\n\u001B[1;32m    168\u001B[0m \u001B[38;5;124m    \u001B[39m\u001B[38;5;124m\"\"\"\u001B[39m\n\u001B[0;32m--> 169\u001B[0m     \u001B[43mtransaction\u001B[49m\u001B[38;5;241;43m.\u001B[39;49m\u001B[43mexecute\u001B[49m\u001B[43m(\u001B[49m\u001B[43manime_query\u001B[49m\u001B[43m)\u001B[49m\n\u001B[1;32m    171\u001B[0m \u001B[38;5;28;01mif\u001B[39;00m \u001B[38;5;129;01mnot\u001B[39;00m user_anime_exists:\n",
      "File \u001B[0;32m~/Library/Python/3.9/lib/python/site-packages/ydb/table.py:2339\u001B[0m, in \u001B[0;36mBaseTxContext.execute\u001B[0;34m(self, query, parameters, commit_tx, settings)\u001B[0m\n\u001B[1;32m   2337\u001B[0m     \u001B[38;5;28mself\u001B[39m\u001B[38;5;241m.\u001B[39m_set_finish(\u001B[38;5;28mself\u001B[39m\u001B[38;5;241m.\u001B[39m_COMMIT)\n\u001B[0;32m-> 2339\u001B[0m \u001B[38;5;28;01mreturn\u001B[39;00m \u001B[38;5;28;43mself\u001B[39;49m\u001B[38;5;241;43m.\u001B[39;49m\u001B[43m_driver\u001B[49m\u001B[43m(\u001B[49m\n\u001B[1;32m   2340\u001B[0m \u001B[43m    \u001B[49m\u001B[43m_tx_ctx_impl\u001B[49m\u001B[38;5;241;43m.\u001B[39;49m\u001B[43mexecute_request_factory\u001B[49m\u001B[43m(\u001B[49m\n\u001B[1;32m   2341\u001B[0m \u001B[43m        \u001B[49m\u001B[38;5;28;43mself\u001B[39;49m\u001B[38;5;241;43m.\u001B[39;49m\u001B[43m_session_state\u001B[49m\u001B[43m,\u001B[49m\n\u001B[1;32m   2342\u001B[0m \u001B[43m        \u001B[49m\u001B[38;5;28;43mself\u001B[39;49m\u001B[38;5;241;43m.\u001B[39;49m\u001B[43m_tx_state\u001B[49m\u001B[43m,\u001B[49m\n\u001B[1;32m   2343\u001B[0m \u001B[43m        \u001B[49m\u001B[43mquery\u001B[49m\u001B[43m,\u001B[49m\n\u001B[1;32m   2344\u001B[0m \u001B[43m        \u001B[49m\u001B[43mparameters\u001B[49m\u001B[43m,\u001B[49m\n\u001B[1;32m   2345\u001B[0m \u001B[43m        \u001B[49m\u001B[43mcommit_tx\u001B[49m\u001B[43m,\u001B[49m\n\u001B[1;32m   2346\u001B[0m \u001B[43m        \u001B[49m\u001B[43msettings\u001B[49m\u001B[43m,\u001B[49m\n\u001B[1;32m   2347\u001B[0m \u001B[43m    \u001B[49m\u001B[43m)\u001B[49m\u001B[43m,\u001B[49m\n\u001B[1;32m   2348\u001B[0m \u001B[43m    \u001B[49m\u001B[43m_apis\u001B[49m\u001B[38;5;241;43m.\u001B[39;49m\u001B[43mTableService\u001B[49m\u001B[38;5;241;43m.\u001B[39;49m\u001B[43mStub\u001B[49m\u001B[43m,\u001B[49m\n\u001B[1;32m   2349\u001B[0m \u001B[43m    \u001B[49m\u001B[43m_apis\u001B[49m\u001B[38;5;241;43m.\u001B[39;49m\u001B[43mTableService\u001B[49m\u001B[38;5;241;43m.\u001B[39;49m\u001B[43mExecuteDataQuery\u001B[49m\u001B[43m,\u001B[49m\n\u001B[1;32m   2350\u001B[0m \u001B[43m    \u001B[49m\u001B[43m_tx_ctx_impl\u001B[49m\u001B[38;5;241;43m.\u001B[39;49m\u001B[43mwrap_result_and_tx_id\u001B[49m\u001B[43m,\u001B[49m\n\u001B[1;32m   2351\u001B[0m \u001B[43m    \u001B[49m\u001B[43msettings\u001B[49m\u001B[43m,\u001B[49m\n\u001B[1;32m   2352\u001B[0m \u001B[43m    \u001B[49m\u001B[43m(\u001B[49m\u001B[38;5;28;43mself\u001B[39;49m\u001B[38;5;241;43m.\u001B[39;49m\u001B[43m_session_state\u001B[49m\u001B[43m,\u001B[49m\u001B[43m \u001B[49m\u001B[38;5;28;43mself\u001B[39;49m\u001B[38;5;241;43m.\u001B[39;49m\u001B[43m_tx_state\u001B[49m\u001B[43m,\u001B[49m\u001B[43m \u001B[49m\u001B[43mquery\u001B[49m\u001B[43m)\u001B[49m\u001B[43m,\u001B[49m\n\u001B[1;32m   2353\u001B[0m \u001B[43m    \u001B[49m\u001B[38;5;28;43mself\u001B[39;49m\u001B[38;5;241;43m.\u001B[39;49m\u001B[43m_session_state\u001B[49m\u001B[38;5;241;43m.\u001B[39;49m\u001B[43mendpoint\u001B[49m\u001B[43m,\u001B[49m\n\u001B[1;32m   2354\u001B[0m \u001B[43m\u001B[49m\u001B[43m)\u001B[49m\n",
      "File \u001B[0;32m~/Library/Python/3.9/lib/python/site-packages/ydb/tracing.py:70\u001B[0m, in \u001B[0;36mwith_trace.<locals>.decorator.<locals>.wrapper\u001B[0;34m(self, *args, **kwargs)\u001B[0m\n\u001B[1;32m     69\u001B[0m \u001B[38;5;28;01mwith\u001B[39;00m \u001B[38;5;28mself\u001B[39m\u001B[38;5;241m.\u001B[39mtracer\u001B[38;5;241m.\u001B[39mtrace(name):\n\u001B[0;32m---> 70\u001B[0m     \u001B[38;5;28;01mreturn\u001B[39;00m \u001B[43mf\u001B[49m\u001B[43m(\u001B[49m\u001B[38;5;28;43mself\u001B[39;49m\u001B[43m,\u001B[49m\u001B[43m \u001B[49m\u001B[38;5;241;43m*\u001B[39;49m\u001B[43margs\u001B[49m\u001B[43m,\u001B[49m\u001B[43m \u001B[49m\u001B[38;5;241;43m*\u001B[39;49m\u001B[38;5;241;43m*\u001B[39;49m\u001B[43mkwargs\u001B[49m\u001B[43m)\u001B[49m\n",
      "File \u001B[0;32m~/Library/Python/3.9/lib/python/site-packages/ydb/pool.py:443\u001B[0m, in \u001B[0;36mConnectionPool.__call__\u001B[0;34m(self, request, stub, rpc_name, wrap_result, settings, wrap_args, preferred_endpoint)\u001B[0m\n\u001B[1;32m    441\u001B[0m     \u001B[38;5;28;01mraise\u001B[39;00m\n\u001B[0;32m--> 443\u001B[0m res \u001B[38;5;241m=\u001B[39m \u001B[43mconnection\u001B[49m\u001B[43m(\u001B[49m\n\u001B[1;32m    444\u001B[0m \u001B[43m    \u001B[49m\u001B[43mrequest\u001B[49m\u001B[43m,\u001B[49m\n\u001B[1;32m    445\u001B[0m \u001B[43m    \u001B[49m\u001B[43mstub\u001B[49m\u001B[43m,\u001B[49m\n\u001B[1;32m    446\u001B[0m \u001B[43m    \u001B[49m\u001B[43mrpc_name\u001B[49m\u001B[43m,\u001B[49m\n\u001B[1;32m    447\u001B[0m \u001B[43m    \u001B[49m\u001B[43mwrap_result\u001B[49m\u001B[43m,\u001B[49m\n\u001B[1;32m    448\u001B[0m \u001B[43m    \u001B[49m\u001B[43msettings\u001B[49m\u001B[43m,\u001B[49m\n\u001B[1;32m    449\u001B[0m \u001B[43m    \u001B[49m\u001B[43mwrap_args\u001B[49m\u001B[43m,\u001B[49m\n\u001B[1;32m    450\u001B[0m \u001B[43m    \u001B[49m\u001B[38;5;28;43;01mlambda\u001B[39;49;00m\u001B[43m:\u001B[49m\u001B[43m \u001B[49m\u001B[38;5;28;43mself\u001B[39;49m\u001B[38;5;241;43m.\u001B[39;49m\u001B[43m_on_disconnected\u001B[49m\u001B[43m(\u001B[49m\u001B[43mconnection\u001B[49m\u001B[43m)\u001B[49m\u001B[43m,\u001B[49m\n\u001B[1;32m    451\u001B[0m \u001B[43m\u001B[49m\u001B[43m)\u001B[49m\n\u001B[1;32m    452\u001B[0m tracing\u001B[38;5;241m.\u001B[39mtrace(\u001B[38;5;28mself\u001B[39m\u001B[38;5;241m.\u001B[39mtracer, {\u001B[38;5;124m\"\u001B[39m\u001B[38;5;124mresponse\u001B[39m\u001B[38;5;124m\"\u001B[39m: res}, trace_level\u001B[38;5;241m=\u001B[39mtracing\u001B[38;5;241m.\u001B[39mTraceLevel\u001B[38;5;241m.\u001B[39mDEBUG)\n",
      "File \u001B[0;32m~/Library/Python/3.9/lib/python/site-packages/ydb/connection.py:465\u001B[0m, in \u001B[0;36mConnection.__call__\u001B[0;34m(self, request, stub, rpc_name, wrap_result, settings, wrap_args, on_disconnected)\u001B[0m\n\u001B[1;32m    464\u001B[0m     _log_response(rpc_state, response)\n\u001B[0;32m--> 465\u001B[0m     \u001B[38;5;28;01mreturn\u001B[39;00m response \u001B[38;5;28;01mif\u001B[39;00m wrap_result \u001B[38;5;129;01mis\u001B[39;00m \u001B[38;5;28;01mNone\u001B[39;00m \u001B[38;5;28;01melse\u001B[39;00m \u001B[43mwrap_result\u001B[49m\u001B[43m(\u001B[49m\u001B[43mrpc_state\u001B[49m\u001B[43m,\u001B[49m\u001B[43m \u001B[49m\u001B[43mresponse\u001B[49m\u001B[43m,\u001B[49m\u001B[43m \u001B[49m\u001B[38;5;241;43m*\u001B[39;49m\u001B[43mwrap_args\u001B[49m\u001B[43m)\u001B[49m\n\u001B[1;32m    466\u001B[0m \u001B[38;5;28;01mexcept\u001B[39;00m grpc\u001B[38;5;241m.\u001B[39mRpcError \u001B[38;5;28;01mas\u001B[39;00m rpc_error:\n",
      "File \u001B[0;32m~/Library/Python/3.9/lib/python/site-packages/ydb/_session_impl.py:20\u001B[0m, in \u001B[0;36mbad_session_handler.<locals>.decorator\u001B[0;34m(rpc_state, response_pb, session_state, *args, **kwargs)\u001B[0m\n\u001B[1;32m     19\u001B[0m     _check_session_is_closing(rpc_state, session_state)\n\u001B[0;32m---> 20\u001B[0m     \u001B[38;5;28;01mreturn\u001B[39;00m \u001B[43mfunc\u001B[49m\u001B[43m(\u001B[49m\u001B[43mrpc_state\u001B[49m\u001B[43m,\u001B[49m\u001B[43m \u001B[49m\u001B[43mresponse_pb\u001B[49m\u001B[43m,\u001B[49m\u001B[43m \u001B[49m\u001B[43msession_state\u001B[49m\u001B[43m,\u001B[49m\u001B[43m \u001B[49m\u001B[38;5;241;43m*\u001B[39;49m\u001B[43margs\u001B[49m\u001B[43m,\u001B[49m\u001B[43m \u001B[49m\u001B[38;5;241;43m*\u001B[39;49m\u001B[38;5;241;43m*\u001B[39;49m\u001B[43mkwargs\u001B[49m\u001B[43m)\u001B[49m\n\u001B[1;32m     21\u001B[0m \u001B[38;5;28;01mexcept\u001B[39;00m issues\u001B[38;5;241m.\u001B[39mBadSession:\n",
      "File \u001B[0;32m~/Library/Python/3.9/lib/python/site-packages/ydb/_tx_ctx_impl.py:9\u001B[0m, in \u001B[0;36mreset_tx_id_handler.<locals>.decorator\u001B[0;34m(rpc_state, response_pb, session_state, tx_state, *args, **kwargs)\u001B[0m\n\u001B[1;32m      8\u001B[0m \u001B[38;5;28;01mtry\u001B[39;00m:\n\u001B[0;32m----> 9\u001B[0m     \u001B[38;5;28;01mreturn\u001B[39;00m \u001B[43mfunc\u001B[49m\u001B[43m(\u001B[49m\u001B[43mrpc_state\u001B[49m\u001B[43m,\u001B[49m\u001B[43m \u001B[49m\u001B[43mresponse_pb\u001B[49m\u001B[43m,\u001B[49m\u001B[43m \u001B[49m\u001B[43msession_state\u001B[49m\u001B[43m,\u001B[49m\u001B[43m \u001B[49m\u001B[43mtx_state\u001B[49m\u001B[43m,\u001B[49m\u001B[43m \u001B[49m\u001B[38;5;241;43m*\u001B[39;49m\u001B[43margs\u001B[49m\u001B[43m,\u001B[49m\u001B[43m \u001B[49m\u001B[38;5;241;43m*\u001B[39;49m\u001B[38;5;241;43m*\u001B[39;49m\u001B[43mkwargs\u001B[49m\u001B[43m)\u001B[49m\n\u001B[1;32m     10\u001B[0m \u001B[38;5;28;01mexcept\u001B[39;00m issues\u001B[38;5;241m.\u001B[39mError:\n",
      "File \u001B[0;32m~/Library/Python/3.9/lib/python/site-packages/ydb/_tx_ctx_impl.py:22\u001B[0m, in \u001B[0;36mnot_found_handler.<locals>.decorator\u001B[0;34m(rpc_state, response_pb, session_state, tx_state, query, *args, **kwargs)\u001B[0m\n\u001B[1;32m     21\u001B[0m \u001B[38;5;28;01mtry\u001B[39;00m:\n\u001B[0;32m---> 22\u001B[0m     \u001B[38;5;28;01mreturn\u001B[39;00m \u001B[43mfunc\u001B[49m\u001B[43m(\u001B[49m\u001B[43mrpc_state\u001B[49m\u001B[43m,\u001B[49m\u001B[43m \u001B[49m\u001B[43mresponse_pb\u001B[49m\u001B[43m,\u001B[49m\u001B[43m \u001B[49m\u001B[43msession_state\u001B[49m\u001B[43m,\u001B[49m\u001B[43m \u001B[49m\u001B[43mtx_state\u001B[49m\u001B[43m,\u001B[49m\u001B[43m \u001B[49m\u001B[43mquery\u001B[49m\u001B[43m,\u001B[49m\u001B[43m \u001B[49m\u001B[38;5;241;43m*\u001B[39;49m\u001B[43margs\u001B[49m\u001B[43m,\u001B[49m\u001B[43m \u001B[49m\u001B[38;5;241;43m*\u001B[39;49m\u001B[38;5;241;43m*\u001B[39;49m\u001B[43mkwargs\u001B[49m\u001B[43m)\u001B[49m\n\u001B[1;32m     23\u001B[0m \u001B[38;5;28;01mexcept\u001B[39;00m issues\u001B[38;5;241m.\u001B[39mNotFound:\n",
      "File \u001B[0;32m~/Library/Python/3.9/lib/python/site-packages/ydb/_tx_ctx_impl.py:165\u001B[0m, in \u001B[0;36mwrap_result_and_tx_id\u001B[0;34m(rpc_state, response_pb, session_state, tx_state, query)\u001B[0m\n\u001B[1;32m    164\u001B[0m session_state\u001B[38;5;241m.\u001B[39mcomplete_query()\n\u001B[0;32m--> 165\u001B[0m \u001B[43missues\u001B[49m\u001B[38;5;241;43m.\u001B[39;49m\u001B[43m_process_response\u001B[49m\u001B[43m(\u001B[49m\u001B[43mresponse_pb\u001B[49m\u001B[38;5;241;43m.\u001B[39;49m\u001B[43moperation\u001B[49m\u001B[43m)\u001B[49m\n\u001B[1;32m    166\u001B[0m message \u001B[38;5;241m=\u001B[39m _apis\u001B[38;5;241m.\u001B[39mydb_table\u001B[38;5;241m.\u001B[39mExecuteQueryResult()\n",
      "File \u001B[0;32m~/Library/Python/3.9/lib/python/site-packages/ydb/issues.py:226\u001B[0m, in \u001B[0;36m_process_response\u001B[0;34m(response_proto)\u001B[0m\n\u001B[1;32m    225\u001B[0m exc_obj \u001B[38;5;241m=\u001B[39m _server_side_error_map\u001B[38;5;241m.\u001B[39mget(response_proto\u001B[38;5;241m.\u001B[39mstatus)\n\u001B[0;32m--> 226\u001B[0m \u001B[38;5;28;01mraise\u001B[39;00m exc_obj(_format_response(response_proto), response_proto\u001B[38;5;241m.\u001B[39missues)\n",
      "\u001B[0;31mGenericError\u001B[0m: position { row: 5 column: 31 } message: \"Unexpected token absence : Missing RPAREN \\n\" end_position { row: 5 column: 31 } severity: 1 (server_code: 400080)",
      "\nDuring handling of the above exception, another exception occurred:\n",
      "\u001B[0;31mPreconditionFailed\u001B[0m                        Traceback (most recent call last)",
      "Cell \u001B[0;32mIn[8], line 1\u001B[0m\n\u001B[0;32m----> 1\u001B[0m \u001B[43mload_user_anime_list\u001B[49m\u001B[43m(\u001B[49m\u001B[43mdriver_test\u001B[49m\u001B[43m,\u001B[49m\u001B[43m \u001B[49m\u001B[43mchat_id\u001B[49m\u001B[43m,\u001B[49m\u001B[43m \u001B[49m\u001B[43muser_anime_list\u001B[49m\u001B[43m)\u001B[49m\n",
      "File \u001B[0;32m~/Documents/Masters/2d year/SysAnal/Modular task/db_controller.py:189\u001B[0m, in \u001B[0;36mload_user_anime_list\u001B[0;34m(driver, chat_id, user_anime_list)\u001B[0m\n\u001B[1;32m    187\u001B[0m \u001B[38;5;28;01mexcept\u001B[39;00m \u001B[38;5;167;01mException\u001B[39;00m \u001B[38;5;28;01mas\u001B[39;00m e:\n\u001B[1;32m    188\u001B[0m     \u001B[38;5;28mprint\u001B[39m(\u001B[38;5;124mf\u001B[39m\u001B[38;5;124m\"\u001B[39m\u001B[38;5;124mError processing animes: \u001B[39m\u001B[38;5;132;01m{\u001B[39;00me\u001B[38;5;132;01m}\u001B[39;00m\u001B[38;5;124m\"\u001B[39m)\n\u001B[0;32m--> 189\u001B[0m     \u001B[43mtransaction\u001B[49m\u001B[38;5;241;43m.\u001B[39;49m\u001B[43mrollback\u001B[49m\u001B[43m(\u001B[49m\u001B[43m)\u001B[49m\n\u001B[1;32m    191\u001B[0m \u001B[38;5;28;01mfinally\u001B[39;00m:\n\u001B[1;32m    192\u001B[0m     pool\u001B[38;5;241m.\u001B[39mrelease(session)\n",
      "File \u001B[0;32m~/Library/Python/3.9/lib/python/site-packages/ydb/table.py:2397\u001B[0m, in \u001B[0;36mBaseTxContext.rollback\u001B[0;34m(self, settings)\u001B[0m\n\u001B[1;32m   2393\u001B[0m \u001B[38;5;28;01mif\u001B[39;00m \u001B[38;5;28mself\u001B[39m\u001B[38;5;241m.\u001B[39m_tx_state\u001B[38;5;241m.\u001B[39mtx_id \u001B[38;5;129;01mis\u001B[39;00m \u001B[38;5;28;01mNone\u001B[39;00m \u001B[38;5;129;01mand\u001B[39;00m \u001B[38;5;129;01mnot\u001B[39;00m \u001B[38;5;28mself\u001B[39m\u001B[38;5;241m.\u001B[39m_tx_state\u001B[38;5;241m.\u001B[39mdead:\n\u001B[1;32m   2394\u001B[0m     \u001B[38;5;28;01mreturn\u001B[39;00m \u001B[38;5;28mself\u001B[39m\n\u001B[1;32m   2396\u001B[0m \u001B[38;5;28;01mreturn\u001B[39;00m \u001B[38;5;28mself\u001B[39m\u001B[38;5;241m.\u001B[39m_driver(\n\u001B[0;32m-> 2397\u001B[0m     \u001B[43m_tx_ctx_impl\u001B[49m\u001B[38;5;241;43m.\u001B[39;49m\u001B[43mrollback_request_factory\u001B[49m\u001B[43m(\u001B[49m\u001B[38;5;28;43mself\u001B[39;49m\u001B[38;5;241;43m.\u001B[39;49m\u001B[43m_session_state\u001B[49m\u001B[43m,\u001B[49m\u001B[43m \u001B[49m\u001B[38;5;28;43mself\u001B[39;49m\u001B[38;5;241;43m.\u001B[39;49m\u001B[43m_tx_state\u001B[49m\u001B[43m)\u001B[49m,\n\u001B[1;32m   2398\u001B[0m     _apis\u001B[38;5;241m.\u001B[39mTableService\u001B[38;5;241m.\u001B[39mStub,\n\u001B[1;32m   2399\u001B[0m     _apis\u001B[38;5;241m.\u001B[39mTableService\u001B[38;5;241m.\u001B[39mRollbackTransaction,\n\u001B[1;32m   2400\u001B[0m     _tx_ctx_impl\u001B[38;5;241m.\u001B[39mwrap_result_on_rollback_or_commit_tx,\n\u001B[1;32m   2401\u001B[0m     settings,\n\u001B[1;32m   2402\u001B[0m     (\u001B[38;5;28mself\u001B[39m\u001B[38;5;241m.\u001B[39m_session_state, \u001B[38;5;28mself\u001B[39m\u001B[38;5;241m.\u001B[39m_tx_state, \u001B[38;5;28mself\u001B[39m),\n\u001B[1;32m   2403\u001B[0m     \u001B[38;5;28mself\u001B[39m\u001B[38;5;241m.\u001B[39m_session_state\u001B[38;5;241m.\u001B[39mendpoint,\n\u001B[1;32m   2404\u001B[0m )\n",
      "File \u001B[0;32m~/Library/Python/3.9/lib/python/site-packages/ydb/_tx_ctx_impl.py:34\u001B[0m, in \u001B[0;36mwrap_tx_factory_handler.<locals>.decorator\u001B[0;34m(session_state, tx_state, *args, **kwargs)\u001B[0m\n\u001B[1;32m     31\u001B[0m \u001B[38;5;129m@functools\u001B[39m\u001B[38;5;241m.\u001B[39mwraps(func)\n\u001B[1;32m     32\u001B[0m \u001B[38;5;28;01mdef\u001B[39;00m \u001B[38;5;21mdecorator\u001B[39m(session_state, tx_state, \u001B[38;5;241m*\u001B[39margs, \u001B[38;5;241m*\u001B[39m\u001B[38;5;241m*\u001B[39mkwargs):\n\u001B[1;32m     33\u001B[0m     \u001B[38;5;28;01mif\u001B[39;00m tx_state\u001B[38;5;241m.\u001B[39mdead:\n\u001B[0;32m---> 34\u001B[0m         \u001B[38;5;28;01mraise\u001B[39;00m issues\u001B[38;5;241m.\u001B[39mPreconditionFailed(\u001B[38;5;124m\"\u001B[39m\u001B[38;5;124mFailed to perform action on broken transaction context!\u001B[39m\u001B[38;5;124m\"\u001B[39m)\n\u001B[1;32m     35\u001B[0m     \u001B[38;5;28;01mreturn\u001B[39;00m func(session_state, tx_state, \u001B[38;5;241m*\u001B[39margs, \u001B[38;5;241m*\u001B[39m\u001B[38;5;241m*\u001B[39mkwargs)\n",
      "\u001B[0;31mPreconditionFailed\u001B[0m: Failed to perform action on broken transaction context!"
     ]
    }
   ],
   "execution_count": 8
  },
  {
   "metadata": {
    "ExecuteTime": {
     "end_time": "2024-11-05T03:49:01.275690Z",
     "start_time": "2024-11-05T03:49:01.174695Z"
    }
   },
   "cell_type": "code",
   "source": "update_last_updated(driver_test, chat_id)\n",
   "id": "256acc994bb1d974",
   "outputs": [],
   "execution_count": 9
  },
  {
   "metadata": {
    "ExecuteTime": {
     "end_time": "2024-11-05T04:41:03.004311Z",
     "start_time": "2024-11-05T04:41:02.470811Z"
    }
   },
   "cell_type": "code",
   "source": "from main import *\n",
   "id": "ed9e640b62abc9e0",
   "outputs": [
    {
     "name": "stderr",
     "output_type": "stream",
     "text": [
      "/Library/Python/3.9/site-packages/urllib3/__init__.py:35: NotOpenSSLWarning: urllib3 v2 only supports OpenSSL 1.1.1+, currently the 'ssl' module is compiled with 'LibreSSL 2.8.3'. See: https://github.com/urllib3/urllib3/issues/3020\n",
      "  warnings.warn(\n"
     ]
    }
   ],
   "execution_count": 1
  },
  {
   "metadata": {
    "ExecuteTime": {
     "end_time": "2024-11-05T04:41:04.550883Z",
     "start_time": "2024-11-05T04:41:04.548443Z"
    }
   },
   "cell_type": "code",
   "source": "chat_id = 505096036\n",
   "id": "f90c3f8542062465",
   "outputs": [],
   "execution_count": 2
  },
  {
   "metadata": {
    "ExecuteTime": {
     "end_time": "2024-11-05T04:41:05.882887Z",
     "start_time": "2024-11-05T04:41:05.878295Z"
    }
   },
   "cell_type": "code",
   "source": [
    "context_data = {\n",
    "    'top_genre': 'Action',  # Имитируем, что ведущий жанр — 'Action'\n",
    "    'median_episodes': 12,  # Имитируем медианное количество эпизодов — 12\n",
    "    'top_titles': 'Милый во Франксе, Герой Щита, Моя сестренка не может быть такой милой',  # Имитируем наиболее популярные тайтлы\n",
    "    'bottom_titles': 'Берсерк, Монстр, Гурен Лаган'  # Имитируем менее популярные тайтлы\n",
    "}"
   ],
   "id": "b00229bd56d37eb2",
   "outputs": [],
   "execution_count": 3
  },
  {
   "metadata": {
    "ExecuteTime": {
     "end_time": "2024-11-05T04:41:08.131524Z",
     "start_time": "2024-11-05T04:41:08.127157Z"
    }
   },
   "cell_type": "code",
   "source": "context_text = format_context_text(context_data) if context_data else \"Нет доступных данных пользователя.\"",
   "id": "e02b356509aec424",
   "outputs": [],
   "execution_count": 4
  },
  {
   "metadata": {
    "ExecuteTime": {
     "end_time": "2024-11-05T04:41:09.838499Z",
     "start_time": "2024-11-05T04:41:09.834505Z"
    }
   },
   "cell_type": "code",
   "source": "prompt = \"хочу какое-нибудь грустную романтику\"",
   "id": "963fa5aa52f0a9bc",
   "outputs": [],
   "execution_count": 5
  },
  {
   "metadata": {
    "ExecuteTime": {
     "end_time": "2024-11-05T04:41:14.250637Z",
     "start_time": "2024-11-05T04:41:11.335915Z"
    }
   },
   "cell_type": "code",
   "source": "recommendations = send_request_to_gpt(context_text, prompt)",
   "id": "10d3da0155673a59",
   "outputs": [],
   "execution_count": 6
  },
  {
   "metadata": {
    "ExecuteTime": {
     "end_time": "2024-11-05T04:41:15.876479Z",
     "start_time": "2024-11-05T04:41:15.873217Z"
    }
   },
   "cell_type": "code",
   "source": "print(recommendations)",
   "id": "2a98a08671693a24",
   "outputs": [
    {
     "name": "stdout",
     "output_type": "stream",
     "text": [
      "{'result': {'alternatives': [{'message': {'role': 'assistant', 'text': '```\\n[\\n  {\\n    \"номер\": \"1\",\\n    \"название\": \"Герцог голубого тумана\"\\n  },\\n  {\\n    \"номер\": \"2\",\\n    \"название\": \"Франкс\"\\n  },\\n  {\\n    \"номер\": \"3\",\\n    \"название\": \"Мой сосед Тоторо\"\\n  }\\n]\\n```\\n\\nВ данном запросе непонятно, какое место в рейтинге должны занимать высокооценённые и низкооценённые аниме, поэтому предложен вариант, в котором все три аниме в каждом списке имеют средний рейтинг. Также в запросе не указано, что делать, если подходящих аниме не найдётся, поэтому в ответе выбраны разные аниме из разных жанров.\\n\\nДля подбора аниме необходимо уточнить параметры поиска.'}, 'status': 'ALTERNATIVE_STATUS_FINAL'}], 'usage': {'inputTextTokens': '293', 'completionTokens': '158', 'totalTokens': '451'}, 'modelVersion': '22.05.2024'}}\n"
     ]
    }
   ],
   "execution_count": 7
  },
  {
   "metadata": {
    "ExecuteTime": {
     "end_time": "2024-11-05T04:44:43.703379Z",
     "start_time": "2024-11-05T04:44:43.699801Z"
    }
   },
   "cell_type": "code",
   "source": [
    "recommendations = [\n",
    "    {\"номер\": \"1\", \"название\": \"Tonari no Totoro\"},  # Мой сосед Тоторо\n",
    "    {\"номер\": \"2\", \"название\": \"Berserk\"},          # Берсерк\n",
    "    {\"номер\": \"3\", \"название\": \"Furakusu to Umi no Ookami Gurunuu\"}  # Фракс и морской волк Гренуй\n",
    "]"
   ],
   "id": "e436b61ce228277d",
   "outputs": [],
   "execution_count": 8
  },
  {
   "metadata": {
    "ExecuteTime": {
     "end_time": "2024-11-05T04:45:48.761107Z",
     "start_time": "2024-11-05T04:45:41.511489Z"
    }
   },
   "cell_type": "code",
   "source": [
    "for recommendation in recommendations:\n",
    "    title = recommendation.get('название')\n",
    "    anime_info = get_anime_by_title(title)\n",
    "    time.sleep(1)  # Предотвращение перегрузки API\n",
    "    if anime_info:\n",
    "        text = (f\"{anime_info['name']} ({anime_info.get('season', 'N/A')})\\n\"\n",
    "                f\"{anime_info['description']}\\nОценка: {anime_info['score']}\\n\"\n",
    "                f\"Жанры: {', '.join([genre['name'] for genre in anime_info['genres']])}\")\n",
    "        send_message(\n",
    "            chat_id,\n",
    "            text=text,\n",
    "            photo_url=anime_info['poster']['originalUrl'],\n",
    "            inline_button_text=\"Подробнее на Shikimori\",\n",
    "            inline_button_url=anime_info['url']\n",
    "        )\n",
    "    else:\n",
    "        send_message(chat_id, f\"{title}\\nИзвините, технические неполадки.\")"
   ],
   "id": "b69a3d3dfee0dec5",
   "outputs": [
    {
     "name": "stdout",
     "output_type": "stream",
     "text": [
      "Error sending message: 400 Client Error: Bad Request for url: https://api.telegram.org/bot8046820225:AAHsGMS7vJIg-CbrqfV3MuOK5_N_8zKwI-U/sendPhoto\n"
     ]
    }
   ],
   "execution_count": 12
  },
  {
   "metadata": {
    "ExecuteTime": {
     "end_time": "2024-11-05T04:37:14.641309Z",
     "start_time": "2024-11-05T04:37:14.637246Z"
    }
   },
   "cell_type": "code",
   "source": "",
   "id": "b4c348a77d1edcd5",
   "outputs": [],
   "execution_count": 14
  }
 ],
 "metadata": {
  "kernelspec": {
   "display_name": "Python 3",
   "language": "python",
   "name": "python3"
  },
  "language_info": {
   "codemirror_mode": {
    "name": "ipython",
    "version": 2
   },
   "file_extension": ".py",
   "mimetype": "text/x-python",
   "name": "python",
   "nbconvert_exporter": "python",
   "pygments_lexer": "ipython2",
   "version": "2.7.6"
  }
 },
 "nbformat": 4,
 "nbformat_minor": 5
}
