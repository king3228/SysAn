{
 "cells": [
  {
   "metadata": {
    "ExecuteTime": {
     "end_time": "2024-11-05T01:14:33.343651Z",
     "start_time": "2024-11-05T01:14:33.332671Z"
    }
   },
   "cell_type": "code",
   "source": [
    "import ydb\n",
    "import json\n",
    "from datetime import datetime, timezone\n",
    "\n",
    "def connect_db():\n",
    "    IAM = 't1.9euelZqWk5DJypqNyZmRyJqJms6emO3rnpWazcrOjo3Nnc3LjpSMkcnJxsjl9PczHVpG-e9vLDfX3fT3c0tXRvnvbyw3183n9euelZqUls_Oi5mLyM-Qi5yKzI-RjO_8xeuelZqUls_Oi5mLyM-Qi5yKzI-RjA._Z4KsjK7PzSiPVOSuExjYOgQ-T5rcFfx2jFbSpmltt6DTnyfffksU4483MtVORBW7tKSqpB5m9sFea09NG-nDw'  # Заменить на действительный IAM токен\n",
    "    driver_config = ydb.DriverConfig(\n",
    "        endpoint='grpcs://ydb.serverless.yandexcloud.net:2135',\n",
    "        database='/ru-central1/b1gsde16rgc0mhkhj1t4/etnjgop9305nqltdo5ob',\n",
    "        credentials=ydb.credentials.AccessTokenCredentials(f'Bearer {IAM}')\n",
    "    )\n",
    "    driver = ydb.Driver(driver_config)\n",
    "    driver.wait(timeout=5)\n",
    "    return driver\n",
    "\n",
    "def get_old_timestamp():\n",
    "    return datetime(1970, 1, 1, tzinfo=timezone.utc)\n",
    "\n",
    "def get_current_timestamp():\n",
    "    return datetime.now(timezone.utc)\n",
    "\n",
    "def check_user_exists(driver, chat_id):\n",
    "    session = driver.table_client.session().create()\n",
    "    query = f\"\"\"\n",
    "    SELECT shikimori_username\n",
    "    FROM users\n",
    "    WHERE chat_id = {chat_id}\n",
    "    \"\"\"\n",
    "    result_set = session.transaction(ydb.SerializableReadWrite()).execute(query, commit_tx=True)\n",
    "    return result_set[0].rows if result_set else None\n",
    "\n",
    "def add_user(driver, chat_id):\n",
    "    session = driver.table_client.session().create()\n",
    "    last_updated = get_old_timestamp().strftime('%Y-%m-%dT%H:%M:%SZ')\n",
    "    query = f\"\"\"\n",
    "    INSERT INTO users (chat_id, shikimori_username, last_updated)\n",
    "    VALUES ({chat_id}, NULL, CAST('{last_updated}' AS TIMESTAMP))\n",
    "    \"\"\"\n",
    "    session.transaction(ydb.SerializableReadWrite()).execute(query, commit_tx=True)\n",
    "\n",
    "def update_last_updated(driver, chat_id):\n",
    "    session = driver.table_client.session().create()\n",
    "    last_updated = get_current_timestamp().strftime('%Y-%m-%dT%H:%M:%SZ')\n",
    "    query = f\"\"\"\n",
    "    UPDATE users\n",
    "    SET last_updated = CAST('{last_updated}' AS TIMESTAMP)\n",
    "    WHERE chat_id = {chat_id}\n",
    "    \"\"\"\n",
    "    session.transaction(ydb.SerializableReadWrite()).execute(query, commit_tx=True)\n",
    "\n",
    "def add_shiki_to_user(driver, chat_id, shiki_username):\n",
    "    session = driver.table_client.session().create()\n",
    "    query = f\"\"\"\n",
    "    UPDATE users\n",
    "    SET shikimori_username = '{shiki_username}'\n",
    "    WHERE chat_id = {chat_id}\n",
    "    \"\"\"\n",
    "    session.transaction(ydb.SerializableReadWrite()).execute(\n",
    "        query,\n",
    "        commit_tx=True\n",
    "    )\n",
    "\n",
    "def get_context_data(driver, chat_id):\n",
    "    session = driver.table_client.session().create()\n",
    "\n",
    "    query_median_year = f\"\"\"\n",
    "    SELECT PERCENTILE_CONT(0.5) WITHIN GROUP (ORDER BY a.anime_id) AS median_year\n",
    "    FROM user_anime ua\n",
    "    JOIN anime a ON ua.anime_id = a.anime_id\n",
    "    WHERE ua.chat_id = {chat_id} AND ua.status = 'finished'\n",
    "    \"\"\"\n",
    "\n",
    "    query_top_genre = f\"\"\"\n",
    "    SELECT genre\n",
    "    FROM (\n",
    "        SELECT json_value(uad.details, '$.genre') AS genre, COUNT(*) AS count\n",
    "        FROM user_anime ua\n",
    "        LEFT JOIN anime a ON ua.anime_id = a.anime_id\n",
    "        LEFT JOIN unnest(json_query_array(a.geners, '$')) AS uad(details) ON true\n",
    "        WHERE ua.chat_id = {chat_id} AND ua.status = 'finished'\n",
    "        GROUP BY genre\n",
    "        ORDER BY count DESC\n",
    "        LIMIT 1\n",
    "    ) t\n",
    "    \"\"\"\n",
    "\n",
    "    query_median_episodes = f\"\"\"\n",
    "    SELECT PERCENTILE_CONT(0.5) WITHIN GROUP (ORDER BY a.episode_count) AS median_episodes\n",
    "    FROM user_anime ua\n",
    "    JOIN anime a ON ua.anime_id = a.anime_id\n",
    "    WHERE ua.chat_id = {chat_id} AND ua.status = 'finished'\n",
    "    \"\"\"\n",
    "\n",
    "    query_top_bottom_titles = f\"\"\"\n",
    "    (SELECT array_agg(a.title ORDER BY ua.user_score DESC LIMIT 3) AS top_titles\n",
    "    FROM user_anime ua\n",
    "    JOIN anime a ON ua.anime_id = a.anime_id\n",
    "    WHERE ua.chat_id = {chat_id} AND ua.status = 'finished'),\n",
    "    (SELECT array_agg(a.title ORDER BY ua.user_score ASC LIMIT 3) AS bottom_titles\n",
    "    FROM user_anime ua\n",
    "    JOIN anime a ON ua.anime_id = a.anime_id\n",
    "    WHERE ua.chat_id = {chat_id} AND ua.status = 'finished')\n",
    "    \"\"\"\n",
    "\n",
    "    # Выполнение запросов\n",
    "    median_year_result = session.transaction(ydb.SerializableReadWrite()).execute(query_median_year)\n",
    "    top_genre_result = session.transaction(ydb.SerializableReadWrite()).execute(query_top_genre)\n",
    "    median_episodes_result = session.transaction(ydb.SerializableReadWrite()).execute(query_median_episodes)\n",
    "    top_bottom_titles_result = session.transaction(ydb.SerializableReadWrite()).execute(query_top_bottom_titles)\n",
    "\n",
    "    context_data = {\n",
    "        'median_year': median_year_result[0].rows[0].median_year,\n",
    "        'top_genre': top_genre_result[0].rows[0].genre,\n",
    "        'median_episodes': median_episodes_result[0].rows[0].median_episodes,\n",
    "        'top_titles': top_bottom_titles_result[0].rows[0].top_titles,\n",
    "        'bottom_titles': top_bottom_titles_result[0].rows[0].bottom_titles\n",
    "    }\n",
    "\n",
    "    return context_data\n",
    "\n",
    "def load_user_anime_list(driver, chat_id, user_anime_list):\n",
    "    session = driver.table_client.session().create()\n",
    "\n",
    "    for anime in user_anime_list:\n",
    "        anime_id = anime['anime_id']\n",
    "        user_anime_id_query = f\"\"\"\n",
    "        SELECT user_anime_id FROM user_anime WHERE chat_id = {chat_id} AND anime_id = {anime_id}\n",
    "        \"\"\"\n",
    "        user_anime_result = session.transaction(ydb.SerializableReadWrite()).execute(user_anime_id_query)\n",
    "\n",
    "        if not user_anime_result[0].rows:\n",
    "            user_anime_insert_query = f\"\"\"\n",
    "            INSERT INTO user_anime (user_anime_id, chat_id, anime_id, status, user_score)\n",
    "            VALUES ('{generate_id()}', {chat_id}, {anime_id}, '{anime['status']}', {anime['score']})\n",
    "            \"\"\"\n",
    "            session.transaction(ydb.SerializableReadWrite()).execute(user_anime_insert_query, commit_tx=True)\n",
    "\n",
    "        anime_record_query = f\"SELECT anime_id FROM anime WHERE anime_id = {anime_id}\"\n",
    "        anime_record_result = session.transaction(ydb.SerializableReadWrite()).execute(anime_record_query)\n",
    "\n",
    "        if not anime_record_result[0].rows:\n",
    "            add_anime(driver, anime)\n",
    "\n",
    "def add_anime(session, anime_details):\n",
    "    insert_anime_query = f\"\"\"\n",
    "    INSERT INTO anime (anime_id, title, average_score, geners, type, episode_duration, episode_count, poster_url, description)\n",
    "    VALUES ({anime_details['anime_id']}, '{anime_details['name']}', {anime_details['average_score']},\n",
    "    '{json.dumps(anime_details['genres'])}', '{anime_details['type']}', {anime_details['episode_duration']},\n",
    "    {anime_details['episode_count']}, '{anime_details['poster_url']}', '{anime_details['description']}')\n",
    "    \"\"\"\n",
    "    session.transaction(ydb.SerializableReadWrite()).execute(insert_anime_query, commit_tx=True)\n",
    "\n",
    "def generate_id():\n",
    "    import uuid\n",
    "    return str(uuid.uuid4())"
   ],
   "id": "e679779df938bc5",
   "outputs": [],
   "execution_count": 9
  },
  {
   "metadata": {
    "ExecuteTime": {
     "end_time": "2024-11-05T01:14:38.079897Z",
     "start_time": "2024-11-05T01:14:37.843587Z"
    }
   },
   "cell_type": "code",
   "source": "driver_test = connect_db()",
   "id": "761994fe34b6aad3",
   "outputs": [],
   "execution_count": 10
  },
  {
   "metadata": {
    "ExecuteTime": {
     "end_time": "2024-11-04T23:34:16.592654Z",
     "start_time": "2024-11-04T23:34:16.484178Z"
    }
   },
   "cell_type": "code",
   "source": "add_user(driver_test, 12345)",
   "id": "6ffcc3dc3dd50d37",
   "outputs": [],
   "execution_count": 13
  },
  {
   "metadata": {
    "ExecuteTime": {
     "end_time": "2024-11-04T23:43:14.929893Z",
     "start_time": "2024-11-04T23:43:14.790847Z"
    }
   },
   "cell_type": "code",
   "source": "add_shiki_to_user(driver_test, 12345, 11121)",
   "id": "1e254fc3ee16c7bb",
   "outputs": [],
   "execution_count": 16
  },
  {
   "metadata": {
    "ExecuteTime": {
     "end_time": "2024-11-04T23:33:38.762244Z",
     "start_time": "2024-11-04T23:33:38.647829Z"
    }
   },
   "cell_type": "code",
   "source": "update_last_updated(driver_test, 231231)",
   "id": "626a576fbb4fab04",
   "outputs": [],
   "execution_count": 12
  },
  {
   "metadata": {},
   "cell_type": "code",
   "outputs": [],
   "execution_count": null,
   "source": "get_context_data(driver_test, 231231)",
   "id": "28ce08395cdc3ca2"
  },
  {
   "metadata": {
    "ExecuteTime": {
     "end_time": "2024-11-05T01:26:29.937920Z",
     "start_time": "2024-11-05T01:26:29.833218Z"
    }
   },
   "cell_type": "code",
   "source": "check_user_exists(driver_test, 505096036)",
   "id": "165ce8ea7d2d1d9b",
   "outputs": [
    {
     "data": {
      "text/plain": [
       "[{'shikimori_username': None}]"
      ]
     },
     "execution_count": 12,
     "metadata": {},
     "output_type": "execute_result"
    }
   ],
   "execution_count": 12
  },
  {
   "metadata": {
    "ExecuteTime": {
     "end_time": "2024-11-05T00:04:05.259970Z",
     "start_time": "2024-11-05T00:04:05.151692Z"
    }
   },
   "cell_type": "code",
   "source": "user_info = check_user_exists(driver_test, 12345)",
   "id": "b1a7bbf07249711a",
   "outputs": [],
   "execution_count": 23
  },
  {
   "metadata": {
    "ExecuteTime": {
     "end_time": "2024-11-05T00:04:06.310159Z",
     "start_time": "2024-11-05T00:04:06.306377Z"
    }
   },
   "cell_type": "code",
   "source": "user_info",
   "id": "5b229eb88eb4a994",
   "outputs": [
    {
     "data": {
      "text/plain": [
       "[{'shikimori_username': b'11121'}]"
      ]
     },
     "execution_count": 24,
     "metadata": {},
     "output_type": "execute_result"
    }
   ],
   "execution_count": 24
  },
  {
   "metadata": {
    "ExecuteTime": {
     "end_time": "2024-11-05T00:04:08.803272Z",
     "start_time": "2024-11-05T00:04:08.798702Z"
    }
   },
   "cell_type": "code",
   "source": "user_info[0].get('shikimori_username')",
   "id": "e66f972c120ce419",
   "outputs": [
    {
     "data": {
      "text/plain": [
       "b'11121'"
      ]
     },
     "execution_count": 25,
     "metadata": {},
     "output_type": "execute_result"
    }
   ],
   "execution_count": 25
  },
  {
   "metadata": {
    "ExecuteTime": {
     "end_time": "2024-11-05T00:43:42.689267Z",
     "start_time": "2024-11-05T00:43:42.680716Z"
    }
   },
   "cell_type": "code",
   "source": [
    "import requests\n",
    "import os\n",
    "import json\n",
    "\n",
    "BOT_TOKEN = '8046820225:AAHsGMS7vJIg-CbrqfV3MuOK5_N_8zKwI-U'\n",
    "BASE_URL = f\"https://api.telegram.org/bot{BOT_TOKEN}\"\n",
    "\n",
    "def send_message(chat_id, text, photo_url=None, command_buttons=None, inline_button_text=None, inline_button_url=None):\n",
    "    # Подготовка клавиатуры для команд, если переданы соответствующие параметры\n",
    "    reply_markup = None\n",
    "\n",
    "    if command_buttons:\n",
    "        keyboard = [[{'text': cmd}] for cmd in command_buttons]\n",
    "        markup = {\"keyboard\": keyboard, \"resize_keyboard\": True, \"one_time_keyboard\": True}\n",
    "    else:\n",
    "        markup = {}\n",
    "\n",
    "    # Подготовка встроенной клавиатуры, если переданы параметры для ссылки\n",
    "    if inline_button_text and inline_button_url:\n",
    "        inline_markup = {\n",
    "            \"inline_keyboard\": [[{\"text\": inline_button_text, \"url\": inline_button_url}]]\n",
    "        }\n",
    "        reply_markup = inline_markup\n",
    "    else:\n",
    "        reply_markup = markup if command_buttons else None\n",
    "\n",
    "    # Подготовка данных и файлов для запроса\n",
    "    if photo_url:\n",
    "        url = f\"{BASE_URL}/sendPhoto\"\n",
    "        data = {'chat_id': chat_id, 'caption': text, 'reply_markup': json.dumps(reply_markup) if reply_markup else None}\n",
    "        files = {'photo': requests.get(photo_url).content}\n",
    "    else:\n",
    "        url = f\"{BASE_URL}/sendMessage\"\n",
    "        data = {'chat_id': chat_id, 'text': text, 'reply_markup': json.dumps(reply_markup) if reply_markup else None}\n",
    "        files = None\n",
    "\n",
    "    try:\n",
    "        response = requests.post(url, data=data, files=files)\n",
    "        response.raise_for_status()  # Проверка наличия HTTP ошибок\n",
    "    except requests.RequestException as e:\n",
    "        print(f\"Error sending message: {e}\")\n",
    "\n",
    "    return response.json()"
   ],
   "id": "a3249133bce91ab4",
   "outputs": [],
   "execution_count": 37
  },
  {
   "metadata": {
    "ExecuteTime": {
     "end_time": "2024-11-05T00:43:46.040585Z",
     "start_time": "2024-11-05T00:43:45.604811Z"
    }
   },
   "cell_type": "code",
   "source": [
    "send_message(\n",
    "    505096036,\n",
    "    text=\"Похоже, вы ещё не привязали аккаунт Shikimori. Это поможет учесть ваши оценки и список при рекомендациях.\",\n",
    "    command_buttons=[\"/add_shiki\"]\n",
    ")"
   ],
   "id": "2cc5d35e82e76ba5",
   "outputs": [
    {
     "data": {
      "text/plain": [
       "{'ok': True,\n",
       " 'result': {'message_id': 11,\n",
       "  'from': {'id': 8046820225,\n",
       "   'is_bot': True,\n",
       "   'first_name': 'Shiki',\n",
       "   'username': 'Skikinormbot'},\n",
       "  'chat': {'id': 505096036,\n",
       "   'first_name': 'Пётр',\n",
       "   'last_name': 'Мирошин',\n",
       "   'username': 'King2238',\n",
       "   'type': 'private'},\n",
       "  'date': 1730767426,\n",
       "  'text': 'Похоже, вы ещё не привязали аккаунт Shikimori. Это поможет учесть ваши оценки и список при рекомендациях.'}}"
      ]
     },
     "execution_count": 38,
     "metadata": {},
     "output_type": "execute_result"
    }
   ],
   "execution_count": 38
  },
  {
   "metadata": {
    "ExecuteTime": {
     "end_time": "2024-11-05T00:11:00.126417Z",
     "start_time": "2024-11-05T00:11:00.118334Z"
    }
   },
   "cell_type": "code",
   "outputs": [],
   "execution_count": 29,
   "source": [
    "import requests\n",
    "import os\n",
    "import json\n",
    "\n",
    "BOT_TOKEN = '8046820225:AAHsGMS7vJIg-CbrqfV3MuOK5_N_8zKwI-U'\n",
    "def send_message(chat_id, text, photo_url=None, button_text=None, button_url=None):\n",
    "    base_url = f\"https://api.telegram.org/bot{BOT_TOKEN}/\"\n",
    "\n",
    "    # Подготовка кнопки, если предоставлены параметры\n",
    "    reply_markup = None\n",
    "    if button_text and button_url:\n",
    "        reply_markup = {\n",
    "            \"inline_keyboard\": [[{\"text\": button_text, \"url\": button_url}]]\n",
    "        }\n",
    "\n",
    "    # Отправка сообщения с картинкой или без\n",
    "    if photo_url:\n",
    "        url = base_url + \"sendPhoto\"\n",
    "        data = {\n",
    "            'chat_id': chat_id,\n",
    "            'caption': text,\n",
    "            'reply_markup': json.dumps(reply_markup) if reply_markup else None\n",
    "        }\n",
    "        files = {'photo': requests.get(photo_url).content}\n",
    "    else:\n",
    "        url = base_url + \"sendMessage\"\n",
    "        data = {\n",
    "            'chat_id': chat_id,\n",
    "            'text': text,\n",
    "            'reply_markup': json.dumps(reply_markup) if reply_markup else None\n",
    "        }\n",
    "        files = None\n",
    "\n",
    "    try:\n",
    "        response = requests.post(url, data=data, files=files)\n",
    "        response.raise_for_status()  # Проверка на наличие HTTP ошибок\n",
    "    except requests.RequestException as e:\n",
    "        print(f\"Error sending message: {e}\")\n",
    "    return response.json()"
   ],
   "id": "cd1c02166d095f87"
  },
  {
   "metadata": {
    "ExecuteTime": {
     "end_time": "2024-11-05T00:13:22.286222Z",
     "start_time": "2024-11-05T00:13:21.877109Z"
    }
   },
   "cell_type": "code",
   "outputs": [
    {
     "name": "stdout",
     "output_type": "stream",
     "text": [
      "Error sending message: 400 Client Error: Bad Request for url: https://api.telegram.org/bot8046820225:AAHsGMS7vJIg-CbrqfV3MuOK5_N_8zKwI-U/sendMessage\n"
     ]
    },
    {
     "data": {
      "text/plain": [
       "{'ok': False,\n",
       " 'error_code': 400,\n",
       " 'description': \"Bad Request: inline keyboard button URL '/get_recd' is invalid: URL host is empty\"}"
      ]
     },
     "execution_count": 31,
     "metadata": {},
     "output_type": "execute_result"
    }
   ],
   "execution_count": 31,
   "source": [
    "send_message(505096036, \n",
    "             text=\"Добро пожаловать! Я бот, который поможет вам с рекомендованными аниме.\\nИспользуйте команды для получения рекомендаций.\",\n",
    "             button_text=\"Получить рекомендации\",\n",
    "             button_url=\"/get_recd\")"
   ],
   "id": "a6db32b5d07509d4"
  }
 ],
 "metadata": {
  "kernelspec": {
   "display_name": "Python 3",
   "language": "python",
   "name": "python3"
  },
  "language_info": {
   "codemirror_mode": {
    "name": "ipython",
    "version": 2
   },
   "file_extension": ".py",
   "mimetype": "text/x-python",
   "name": "python",
   "nbconvert_exporter": "python",
   "pygments_lexer": "ipython2",
   "version": "2.7.6"
  }
 },
 "nbformat": 4,
 "nbformat_minor": 5
}
