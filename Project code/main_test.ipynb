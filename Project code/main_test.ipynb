{
 "cells": [
  {
   "cell_type": "markdown",
   "id": "51b601ca",
   "metadata": {},
   "source": [
    "### Object Storage secrets import"
   ]
  },
  {
   "cell_type": "code",
   "execution_count": 35,
   "id": "9c887a7f",
   "metadata": {},
   "outputs": [],
   "source": [
    "from dotenv import load_dotenv\n",
    "import os\n",
    "\n",
    "load_dotenv('/Users/p.miroshin/Documents/Masters/2d_year/keys.env')\n",
    "\n",
    "ACCESS_SECRET_KEY = os.getenv(\"ACCESS_SECRET_KEY\")\n",
    "ACCESS_KEY_ID = os.getenv(\"ACCESS_KEY_ID\")"
   ]
  },
  {
   "cell_type": "markdown",
   "id": "27c01a0d",
   "metadata": {},
   "source": [
    "### Object Storage test functions"
   ]
  },
  {
   "cell_type": "code",
   "execution_count": 36,
   "id": "ae55f1a0",
   "metadata": {},
   "outputs": [],
   "source": [
    "from object_storage import (  # Ваши функции находятся в модуле object_storage\n",
    "    read_table_from_s3_csv,\n",
    "    write_table_to_s3_csv,\n",
    "    get_old_timestamp,\n",
    "    get_current_timestamp,\n",
    "    check_user_exists,\n",
    "    add_user,\n",
    "    update_last_updated,\n",
    "    add_shiki_to_user,\n",
    "    load_user_anime_list,\n",
    "    get_context_data,\n",
    "    generate_id\n",
    ")\n",
    "import pandas as pd"
   ]
  },
  {
   "cell_type": "code",
   "execution_count": 2,
   "id": "13ea9224",
   "metadata": {},
   "outputs": [],
   "source": [
    "import json"
   ]
  },
  {
   "cell_type": "code",
   "execution_count": 8,
   "id": "46624057",
   "metadata": {},
   "outputs": [],
   "source": [
    "recommendations = [\n",
    "    {\"название\": \"Noumin Kanren no Skill bakka Agetetara Nazeka Tsuyoku Natta.\"},\n",
    "    {\"название\": \"Isekai de Cheat Skill wo Te ni Shita Ore wa, Genjitsu Sekai wo mo Musou Suru: Level Up wa Jinsei wo Kaeta\"},\n",
    "    {\"название\": \"Sousou no Frieren\"}\n",
    "]\n"
   ]
  },
  {
   "cell_type": "code",
   "execution_count": 1,
   "id": "b334fe52",
   "metadata": {},
   "outputs": [],
   "source": [
    "from yandex_gpt_alpha import *"
   ]
  },
  {
   "cell_type": "code",
   "execution_count": 8,
   "id": "f177bb5b",
   "metadata": {},
   "outputs": [
    {
     "name": "stdout",
     "output_type": "stream",
     "text": [
      "{'result': {'alternatives': [{'message': {'role': 'assistant', 'text': '```\\n[\\n    {\"1\": \"Attack on Titan\"},\\n    {\"2\": \"Berserk\"},\\n    {\"3\": \"Vinland Saga\"}\\n]\\n```'}, 'status': 'ALTERNATIVE_STATUS_FINAL'}], 'usage': {'inputTextTokens': '294', 'completionTokens': '37', 'totalTokens': '331'}, 'modelVersion': '23.10.2024'}}\n"
     ]
    }
   ],
   "source": [
    "user_data = {\n",
    "    'top_genre': 'Action',\n",
    "    'median_episodes': 12.0,\n",
    "    'top_titles': ['Grand Blue', 'Fullmetal Alchemist', 'Fullmetal Alchemist: Brotherhood'],\n",
    "    'bottom_titles': [\n",
    "        'Noumin Kanren no Skill bakka Agetetara Nazeka Tsuyoku Natta.',\n",
    "        'Isekai de Cheat Skill wo Te ni Shita Ore wa, Genjitsu Sekai wo mo Musou Suru: Level Up wa Jinsei wo Kaeta',\n",
    "        'Tokyo Ghoul √A'\n",
    "    ]\n",
    "}\n",
    "\n",
    "# Запрос пользователя\n",
    "user_query = \"Хочу посмотреть аниме с  интересной драмой\"\n",
    "\n",
    "# Вызов функции\n",
    "result = get_anime_recommendations(user_data, user_query)\n",
    "\n",
    "# Вывод результата\n",
    "print(result)"
   ]
  },
  {
   "cell_type": "code",
   "execution_count": 2,
   "id": "1c656908",
   "metadata": {},
   "outputs": [
    {
     "name": "stdout",
     "output_type": "stream",
     "text": [
      "[{'название': 'Boku no Hero Academia'}, {'название': 'My Hero Academia: Season 5'}, {'название': 'Attack on Titan'}]\n"
     ]
    }
   ],
   "source": [
    "# Пример исходных данных от API\n",
    "api_response = {\n",
    "    'result': {\n",
    "        'alternatives': [\n",
    "            {\n",
    "                'message': {\n",
    "                    'role': 'assistant',\n",
    "                    'text': '```\\n[\\n    {\"1\": \"Boku no Hero Academia\"},\\n    {\"2\": \"My Hero Academia: Season 5\"},\\n    {\"3\": \"Attack on Titan\"}\\n]\\n```'\n",
    "                },\n",
    "                'status': 'ALTERNATIVE_STATUS_FINAL'\n",
    "            }\n",
    "        ],\n",
    "        'usage': {\n",
    "            'inputTextTokens': '298',\n",
    "            'completionTokens': '43',\n",
    "            'totalTokens': '341'\n",
    "        },\n",
    "        'modelVersion': '23.10.2024'\n",
    "    }\n",
    "}\n",
    "\n",
    "# Вызов функции для обработки ответа\n",
    "recommendations = format_recommendations(api_response)\n",
    "\n",
    "# Вывод результата\n",
    "print(recommendations)"
   ]
  },
  {
   "cell_type": "code",
   "execution_count": 11,
   "id": "2ada1ab3",
   "metadata": {},
   "outputs": [],
   "source": [
    "from main import *"
   ]
  },
  {
   "cell_type": "code",
   "execution_count": 2,
   "id": "fb5194b6",
   "metadata": {},
   "outputs": [],
   "source": [
    "chat_id = 505096036\n",
    "title = 'test'"
   ]
  },
  {
   "cell_type": "code",
   "execution_count": 29,
   "id": "ba7e34f7",
   "metadata": {},
   "outputs": [
    {
     "data": {
      "text/plain": [
       "np.int64(1018441)"
      ]
     },
     "execution_count": 29,
     "metadata": {},
     "output_type": "execute_result"
    }
   ],
   "source": [
    "shikimori_username"
   ]
  },
  {
   "cell_type": "code",
   "execution_count": null,
   "id": "116b8c57",
   "metadata": {},
   "outputs": [],
   "source": [
    "# Создание списка\n",
    "response = create_recommended_list(\n",
    "    name=\"Лучшие аниме для новичков\",\n",
    "    description=\"Подборка аниме для тех, кто только начал их смотреть.\",\n",
    "    list_type=\"Для новичков\",\n",
    "    genre=None,\n",
    "    year=None,\n",
    "    anime_ids=[101, 102, 103],\n",
    "    created_by=\"admin\"\n",
    ")\n",
    "print(response)\n",
    "\n",
    "# Получение списка\n",
    "response = get_recommended_list_by_name(\"Лучшие аниме для новичков\")\n",
    "print(response)\n",
    "\n",
    "# Обновление списка\n",
    "response = update_recommended_list(\n",
    "    list_id=\"some_list_id\",\n",
    "    name=\"Новое название\",\n",
    "    description=\"Новое описание\",\n",
    "    anime_ids=[103, 104, 105]\n",
    ")\n",
    "print(response)\n",
    "\n",
    "# Сравнение с просмотренными\n",
    "response = compare_list_with_user(list_id=\"some_list_id\", chat_id=505096036)\n",
    "print(response)\n",
    "\n",
    "# Вывод всех списков\n",
    "response = get_all_recommended_lists()\n",
    "print(response)"
   ]
  },
  {
   "cell_type": "code",
   "execution_count": null,
   "id": "c2a7a4f4",
   "metadata": {},
   "outputs": [],
   "source": [
    "response = create_recommended_list(\n",
    "    chat_id=505096036,  # Пользователь с админскими правами из `ADMINS`\n",
    "    name=\"Test\",\n",
    "    description=\"Список лучших боевых аниме.\",\n",
    "    list_type=\"Action\",\n",
    "    genre=\"Action\",\n",
    "    year=2023,\n",
    "    anime_ids=[101, 102, 103],\n",
    "    created_by=505096036\n",
    ")\n",
    "print(response)"
   ]
  },
  {
   "cell_type": "code",
   "execution_count": 42,
   "id": "e3836678",
   "metadata": {},
   "outputs": [
    {
     "data": {
      "text/plain": [
       "{'status': 'success',\n",
       " 'message': \"Список с ID '1' успешно обновлен.\",\n",
       " 'data': None,\n",
       " 'code': 200}"
      ]
     },
     "execution_count": 42,
     "metadata": {},
     "output_type": "execute_result"
    }
   ],
   "source": [
    "update_recommended_list(\n",
    "    chat_id=505096036,\n",
    "    list_id=1,\n",
    "    name=\"Новое название\",\n",
    "    description=\"Новое описание\",\n",
    "    anime_ids=[103, 104, 105]\n",
    ")"
   ]
  },
  {
   "cell_type": "code",
   "execution_count": 5,
   "id": "ce7bba83",
   "metadata": {},
   "outputs": [],
   "source": [
    "from object_storage import *"
   ]
  },
  {
   "cell_type": "code",
   "execution_count": 20,
   "id": "80db7382",
   "metadata": {},
   "outputs": [],
   "source": [
    "s3 = get_s3_client()"
   ]
  },
  {
   "cell_type": "code",
   "execution_count": null,
   "id": "9d0725d7",
   "metadata": {},
   "outputs": [],
   "source": [
    "response = s3.get_object(Bucket='bucket-first', Key='recommended_lists.csv')"
   ]
  },
  {
   "cell_type": "code",
   "execution_count": 21,
   "id": "c312b4d6",
   "metadata": {},
   "outputs": [
    {
     "data": {
      "text/html": [
       "<div>\n",
       "<style scoped>\n",
       "    .dataframe tbody tr th:only-of-type {\n",
       "        vertical-align: middle;\n",
       "    }\n",
       "\n",
       "    .dataframe tbody tr th {\n",
       "        vertical-align: top;\n",
       "    }\n",
       "\n",
       "    .dataframe thead th {\n",
       "        text-align: right;\n",
       "    }\n",
       "</style>\n",
       "<table border=\"1\" class=\"dataframe\">\n",
       "  <thead>\n",
       "    <tr style=\"text-align: right;\">\n",
       "      <th></th>\n",
       "      <th>list_id</th>\n",
       "      <th>name</th>\n",
       "      <th>description</th>\n",
       "      <th>type</th>\n",
       "      <th>genre</th>\n",
       "      <th>year</th>\n",
       "      <th>created_by</th>\n",
       "      <th>created_at</th>\n",
       "      <th>updated_at</th>\n",
       "    </tr>\n",
       "  </thead>\n",
       "  <tbody>\n",
       "    <tr>\n",
       "      <th>0</th>\n",
       "      <td>1</td>\n",
       "      <td>Легендарные аниме</td>\n",
       "      <td>Культовые аниме всех времён</td>\n",
       "      <td>Общий</td>\n",
       "      <td>Action</td>\n",
       "      <td>NaN</td>\n",
       "      <td>505096036</td>\n",
       "      <td>2024-12-22T12:51:49.268934</td>\n",
       "      <td>2024-12-22T12:51:49.268938</td>\n",
       "    </tr>\n",
       "    <tr>\n",
       "      <th>1</th>\n",
       "      <td>2</td>\n",
       "      <td>Аниме для новичков</td>\n",
       "      <td>Идеальные тайтлы для начала знакомства с аниме</td>\n",
       "      <td>Для новичков</td>\n",
       "      <td>NaN</td>\n",
       "      <td>NaN</td>\n",
       "      <td>505096036</td>\n",
       "      <td>2024-12-22T12:51:49.268939</td>\n",
       "      <td>2024-12-22T12:51:49.268939</td>\n",
       "    </tr>\n",
       "    <tr>\n",
       "      <th>2</th>\n",
       "      <td>3</td>\n",
       "      <td>Лучшие комедии</td>\n",
       "      <td>Весёлые комедийные аниме</td>\n",
       "      <td>Комедия</td>\n",
       "      <td>Comedy</td>\n",
       "      <td>2023.0</td>\n",
       "      <td>123456789</td>\n",
       "      <td>2024-12-22T12:51:49.268940</td>\n",
       "      <td>2024-12-22T12:51:49.268941</td>\n",
       "    </tr>\n",
       "  </tbody>\n",
       "</table>\n",
       "</div>"
      ],
      "text/plain": [
       "   list_id                name  \\\n",
       "0        1   Легендарные аниме   \n",
       "1        2  Аниме для новичков   \n",
       "2        3      Лучшие комедии   \n",
       "\n",
       "                                      description          type   genre  \\\n",
       "0                     Культовые аниме всех времён         Общий  Action   \n",
       "1  Идеальные тайтлы для начала знакомства с аниме  Для новичков     NaN   \n",
       "2                        Весёлые комедийные аниме       Комедия  Comedy   \n",
       "\n",
       "     year  created_by                  created_at                  updated_at  \n",
       "0     NaN   505096036  2024-12-22T12:51:49.268934  2024-12-22T12:51:49.268938  \n",
       "1     NaN   505096036  2024-12-22T12:51:49.268939  2024-12-22T12:51:49.268939  \n",
       "2  2023.0   123456789  2024-12-22T12:51:49.268940  2024-12-22T12:51:49.268941  "
      ]
     },
     "execution_count": 21,
     "metadata": {},
     "output_type": "execute_result"
    }
   ],
   "source": [
    "pd.read_csv(response['Body'])"
   ]
  },
  {
   "cell_type": "code",
   "execution_count": 3,
   "id": "1f1fda43",
   "metadata": {},
   "outputs": [],
   "source": [
    "import json"
   ]
  },
  {
   "cell_type": "code",
   "execution_count": 2,
   "id": "5c66f166",
   "metadata": {},
   "outputs": [],
   "source": [
    "from get_all_recommended_lists import get_all_lists_handler"
   ]
  },
  {
   "cell_type": "code",
   "execution_count": 3,
   "id": "5ba04e06",
   "metadata": {},
   "outputs": [],
   "source": [
    "event_get_all_lists = {\n",
    "    \"httpMethod\": \"GET\",\n",
    "    \"headers\": {\n",
    "        \"Content-Type\": \"application/json\"\n",
    "    }\n",
    "}\n",
    "context_get_all_lists = {}"
   ]
  },
  {
   "cell_type": "code",
   "execution_count": 4,
   "id": "dddea55a",
   "metadata": {},
   "outputs": [],
   "source": [
    "# Тестируем создание списка\n",
    "response = get_all_lists_handler(event_get_all_lists, context_get_all_lists)"
   ]
  },
  {
   "cell_type": "code",
   "execution_count": 5,
   "id": "a86b39a7",
   "metadata": {},
   "outputs": [
    {
     "data": {
      "text/plain": [
       "{'statusCode': 200,\n",
       " 'body': '{\"status\": \"success\", \"message\": \"Успешный запрос.\", \"data\": [{\"list_id\": \"1\", \"name\": \"Новое название\", \"description\": \"Новое описание\", \"type\": \"Общий\", \"genre\": \"Action\", \"year\": NaN, \"created_by\": 505096036, \"created_at\": \"2024-12-22T12:51:49.268934\", \"updated_at\": \"2024-12-22T13:06:43.348735+00:00\"}, {\"list_id\": \"2\", \"name\": \"Аниме для новичков\", \"description\": \"Идеальные тайтлы для начала знакомства с аниме\", \"type\": \"Для новичков\", \"genre\": NaN, \"year\": NaN, \"created_by\": 505096036, \"created_at\": \"2024-12-22T12:51:49.268939\", \"updated_at\": \"2024-12-22T12:51:49.268939\"}, {\"list_id\": \"3\", \"name\": \"Лучшие комедии\", \"description\": \"Весёлые комедийные аниме\", \"type\": \"Комедия\", \"genre\": \"Comedy\", \"year\": 2023.0, \"created_by\": 123456789, \"created_at\": \"2024-12-22T12:51:49.268940\", \"updated_at\": \"2024-12-22T12:51:49.268941\"}, {\"list_id\": \"6c9aafe2-6e6c-42cc-b148-09de54da817a\", \"name\": \"Лучшие приключения\", \"description\": \"Этот список содержит аниме про приключения.\", \"type\": \"Приключения\", \"genre\": \"Adventure\", \"year\": 2022.0, \"created_by\": 123456, \"created_at\": \"2024-12-22T14:57:17.214757+00:00\", \"updated_at\": \"2024-12-22T14:57:17.214777+00:00\"}]}'}"
      ]
     },
     "execution_count": 5,
     "metadata": {},
     "output_type": "execute_result"
    }
   ],
   "source": [
    "response"
   ]
  },
  {
   "cell_type": "code",
   "execution_count": 1,
   "id": "311ea7a0",
   "metadata": {},
   "outputs": [],
   "source": [
    "import pandas as pd\n",
    "import numpy as np"
   ]
  },
  {
   "cell_type": "code",
   "execution_count": 5,
   "id": "f6c339a5",
   "metadata": {},
   "outputs": [],
   "source": [
    "names = ['user_id', 'item_id', 'rating', 'timestamp']\n",
    "\n",
    "ratings = pd.read_csv(\"/Users/p.miroshin/SysAn/Test files/ratings.csv\", sep=',',header=0, names=names)"
   ]
  },
  {
   "cell_type": "code",
   "execution_count": 6,
   "id": "cbac9717",
   "metadata": {},
   "outputs": [
    {
     "data": {
      "text/plain": [
       "(100836, 4)"
      ]
     },
     "execution_count": 6,
     "metadata": {},
     "output_type": "execute_result"
    }
   ],
   "source": [
    "ratings.shape"
   ]
  },
  {
   "cell_type": "code",
   "execution_count": 45,
   "id": "80138e59",
   "metadata": {},
   "outputs": [
    {
     "data": {
      "text/plain": [
       "{'status': 'success',\n",
       " 'message': 'Успешный запрос.',\n",
       " 'data': [{'list_id': '1',\n",
       "   'name': 'Новое название',\n",
       "   'description': 'Новое описание',\n",
       "   'type': 'Общий',\n",
       "   'genre': 'Action',\n",
       "   'year': nan,\n",
       "   'created_by': 505096036,\n",
       "   'created_at': '2024-12-22T12:51:49.268934',\n",
       "   'updated_at': '2024-12-22T13:06:43.348735+00:00'},\n",
       "  {'list_id': '2',\n",
       "   'name': 'Аниме для новичков',\n",
       "   'description': 'Идеальные тайтлы для начала знакомства с аниме',\n",
       "   'type': 'Для новичков',\n",
       "   'genre': nan,\n",
       "   'year': nan,\n",
       "   'created_by': 505096036,\n",
       "   'created_at': '2024-12-22T12:51:49.268939',\n",
       "   'updated_at': '2024-12-22T12:51:49.268939'},\n",
       "  {'list_id': '3',\n",
       "   'name': 'Лучшие комедии',\n",
       "   'description': 'Весёлые комедийные аниме',\n",
       "   'type': 'Комедия',\n",
       "   'genre': 'Comedy',\n",
       "   'year': 2023.0,\n",
       "   'created_by': 123456789,\n",
       "   'created_at': '2024-12-22T12:51:49.268940',\n",
       "   'updated_at': '2024-12-22T12:51:49.268941'},\n",
       "  {'list_id': '6c9aafe2-6e6c-42cc-b148-09de54da817a',\n",
       "   'name': 'Лучшие приключения',\n",
       "   'description': 'Этот список содержит аниме про приключения.',\n",
       "   'type': 'Приключения',\n",
       "   'genre': 'Adventure',\n",
       "   'year': 2022.0,\n",
       "   'created_by': 123456,\n",
       "   'created_at': '2024-12-22T14:57:17.214757+00:00',\n",
       "   'updated_at': '2024-12-22T14:57:17.214777+00:00'}],\n",
       " 'code': 200}"
      ]
     },
     "execution_count": 45,
     "metadata": {},
     "output_type": "execute_result"
    }
   ],
   "source": [
    "get_all_recommended_lists()"
   ]
  },
  {
   "cell_type": "code",
   "execution_count": 9,
   "id": "8fcdf5ae",
   "metadata": {},
   "outputs": [],
   "source": [
    "import requests\n",
    "import json\n",
    "\n",
    "# URL вашего API Gateway\n",
    "BASE_URL = \"https://d5de4233mi7e427khfjs.i99u1wfk.apigw.yandexcloud.net/recommendations\"\n",
    "\n",
    "# Функция для печати ответа для анализа\n",
    "def print_response(response):\n",
    "    print(f\"Status Code: {response.status_code}\")\n",
    "    try:\n",
    "        body = response.json()\n",
    "    except Exception as e:\n",
    "        body = response.text\n",
    "    print(f\"Body: {json.dumps(body, indent=4, ensure_ascii=False)}\\n{'-' * 50}\\n\")\n",
    "\n",
    "# Тестовые данные\n",
    "TEST_ADMIN_KEY = 505096036  # Замени на реальный ключ администратора\n",
    "TEST_CHAT_ID = 505096036\n",
    "TEST_LIST_ID = \"ca144bc7-6f5d-4f04-9c77-b07b3ffd752a\"  # Временно заменишь на реальный `list_id`\n",
    "TEST_ANIME_IDS = [121, 100, 103]\n",
    "\n",
    "# 1. Тестирование создания списка\n",
    "def test_create_list():\n",
    "    url = f\"{BASE_URL}/lists\"\n",
    "    data = {\n",
    "        \"auth_key\": TEST_ADMIN_KEY,\n",
    "        \"name\": \"Тестовый список\",\n",
    "        \"description\": \"Это тестовый список аниме.\",\n",
    "        \"type\": \"Общий\",\n",
    "        \"genre\": \"Action\",\n",
    "        \"year\": 2023,\n",
    "        \"anime_ids\": TEST_ANIME_IDS,\n",
    "        \"created_by\": TEST_CHAT_ID\n",
    "    }\n",
    "    response = requests.post(url, json=data)\n",
    "    print(\"1. Создание списка:\")\n",
    "    print_response(response)\n",
    "\n",
    "# 2. Тестирование получения всех списков\n",
    "def test_get_all_lists():\n",
    "    url = f\"{BASE_URL}/lists\"\n",
    "    response = requests.get(url)\n",
    "    print(\"2. Получение всех списков:\")\n",
    "    print_response(response)\n",
    "\n",
    "# 3. Тестирование получения одного списка по ID\n",
    "def test_get_single_list(list_id):\n",
    "    url = f\"{BASE_URL}/lists/{list_id}\"\n",
    "    response = requests.get(url)\n",
    "    print(f\"3. Получение одного списка (ID: {list_id}):\")\n",
    "    print_response(response)\n",
    "\n",
    "# 4. Тестирование обновления списка\n",
    "def test_update_list(list_id):\n",
    "    url = f\"{BASE_URL}/lists/{list_id}\"\n",
    "    data = {\n",
    "        \"auth_key\": TEST_ADMIN_KEY,\n",
    "        \"name\": \"Обновленный список (тест)\",\n",
    "        \"description\": \"Обновленное описание тестового списка.\",\n",
    "        \"anime_ids\": [201, 202]\n",
    "    }\n",
    "    response = requests.put(url, json=data)\n",
    "    print(f\"4. Обновление списка (ID: {list_id}):\")\n",
    "    print_response(response)\n",
    "\n",
    "# 5. Тестирование удаления списка\n",
    "def test_delete_list(list_id):\n",
    "    url = f\"{BASE_URL}/lists/{list_id}\"\n",
    "    data = {\"auth_key\": TEST_ADMIN_KEY}\n",
    "    response = requests.delete(url, json=data)\n",
    "    print(f\"5. Удаление списка (ID: {list_id}):\")\n",
    "    print_response(response)\n",
    "\n",
    "# 6. Тестирование сравнения списка с просмотренным\n",
    "def test_compare_list(list_id, chat_id):\n",
    "    url = f\"{BASE_URL}/lists/{list_id}/compare\"\n",
    "    data = {\"chat_id\": chat_id}\n",
    "    response = requests.post(url, json=data)\n",
    "    print(f\"6. Сравнение списка с просмотренным (ID: {list_id}, Chat ID: {chat_id}):\")\n",
    "    print_response(response)"
   ]
  },
  {
   "cell_type": "code",
   "execution_count": 25,
   "id": "ad0a9b85",
   "metadata": {},
   "outputs": [],
   "source": [
    "TEST_ADMIN_KEY = 505096036"
   ]
  },
  {
   "cell_type": "code",
   "execution_count": 11,
   "id": "396ea5f7",
   "metadata": {},
   "outputs": [
    {
     "name": "stdout",
     "output_type": "stream",
     "text": [
      "2. Получение всех списков:\n",
      "Status Code: 200\n",
      "Body: {\n",
      "    \"status\": \"success\",\n",
      "    \"message\": \"Успешный запрос.\",\n",
      "    \"data\": [\n",
      "        {\n",
      "            \"list_id\": \"1\",\n",
      "            \"name\": \"Новое название\",\n",
      "            \"description\": \"Новое описание\",\n",
      "            \"type\": \"Общий\",\n",
      "            \"genre\": \"Action\",\n",
      "            \"year\": NaN,\n",
      "            \"created_by\": 505096036,\n",
      "            \"created_at\": \"2024-12-22T12:51:49.268934\",\n",
      "            \"updated_at\": \"2024-12-22T13:06:43.348735+00:00\"\n",
      "        },\n",
      "        {\n",
      "            \"list_id\": \"2\",\n",
      "            \"name\": \"Аниме для новичков\",\n",
      "            \"description\": \"Идеальные тайтлы для начала знакомства с аниме\",\n",
      "            \"type\": \"Для новичков\",\n",
      "            \"genre\": NaN,\n",
      "            \"year\": NaN,\n",
      "            \"created_by\": 505096036,\n",
      "            \"created_at\": \"2024-12-22T12:51:49.268939\",\n",
      "            \"updated_at\": \"2024-12-22T12:51:49.268939\"\n",
      "        },\n",
      "        {\n",
      "            \"list_id\": \"3\",\n",
      "            \"name\": \"Лучшие комедии\",\n",
      "            \"description\": \"Весёлые комедийные аниме\",\n",
      "            \"type\": \"Комедия\",\n",
      "            \"genre\": \"Comedy\",\n",
      "            \"year\": 2023.0,\n",
      "            \"created_by\": 123456789,\n",
      "            \"created_at\": \"2024-12-22T12:51:49.268940\",\n",
      "            \"updated_at\": \"2024-12-22T12:51:49.268941\"\n",
      "        },\n",
      "        {\n",
      "            \"list_id\": \"6c9aafe2-6e6c-42cc-b148-09de54da817a\",\n",
      "            \"name\": \"Лучшие приключения\",\n",
      "            \"description\": \"Этот список содержит аниме про приключения.\",\n",
      "            \"type\": \"Приключения\",\n",
      "            \"genre\": \"Adventure\",\n",
      "            \"year\": 2022.0,\n",
      "            \"created_by\": 123456,\n",
      "            \"created_at\": \"2024-12-22T14:57:17.214757+00:00\",\n",
      "            \"updated_at\": \"2024-12-22T14:57:17.214777+00:00\"\n",
      "        },\n",
      "        {\n",
      "            \"list_id\": \"e1afabf7-f860-444a-bda4-cf73217fd45e\",\n",
      "            \"name\": \"Тестовый список\",\n",
      "            \"description\": \"Это тестовый список аниме.\",\n",
      "            \"type\": \"Общий\",\n",
      "            \"genre\": \"Action\",\n",
      "            \"year\": 2023.0,\n",
      "            \"created_by\": 505096036,\n",
      "            \"created_at\": \"2024-12-23T11:31:50.667553+00:00\",\n",
      "            \"updated_at\": \"2024-12-23T11:31:50.667584+00:00\"\n",
      "        }\n",
      "    ]\n",
      "}\n",
      "--------------------------------------------------\n",
      "\n"
     ]
    }
   ],
   "source": [
    "test_get_all_lists()"
   ]
  },
  {
   "cell_type": "code",
   "execution_count": 10,
   "id": "0f46d176",
   "metadata": {},
   "outputs": [
    {
     "name": "stdout",
     "output_type": "stream",
     "text": [
      "6. Сравнение списка с просмотренным (ID: e1afabf7-f860-444a-bda4-cf73217fd45e, Chat ID: 505096036):\n",
      "Status Code: 200\n",
      "Body: {\n",
      "    \"status\": \"success\",\n",
      "    \"message\": \"Успешный запрос.\",\n",
      "    \"data\": {\n",
      "        \"viewed\": [\n",
      "            121\n",
      "        ],\n",
      "        \"not_viewed\": [\n",
      "            100,\n",
      "            103\n",
      "        ]\n",
      "    }\n",
      "}\n",
      "--------------------------------------------------\n",
      "\n"
     ]
    }
   ],
   "source": [
    "test_compare_list('e1afabf7-f860-444a-bda4-cf73217fd45e', 505096036)"
   ]
  },
  {
   "cell_type": "code",
   "execution_count": 1,
   "id": "f77c7d61",
   "metadata": {},
   "outputs": [],
   "source": [
    "from recommendations_logic import *"
   ]
  },
  {
   "cell_type": "code",
   "execution_count": 6,
   "id": "fb1c0932",
   "metadata": {},
   "outputs": [
    {
     "name": "stdout",
     "output_type": "stream",
     "text": [
      "• Новое название: Новое описание\n",
      "• Аниме для новичков: Идеальные тайтлы для начала знакомства с аниме\n",
      "• Лучшие комедии: Весёлые комедийные аниме\n",
      "• Лучшие приключения: Этот список содержит аниме про приключения.\n",
      "• Тестовый список: Это тестовый список аниме.\n"
     ]
    }
   ],
   "source": [
    "handle_get_all_lists(chat_id)"
   ]
  },
  {
   "cell_type": "code",
   "execution_count": null,
   "id": "7efaf2fe",
   "metadata": {},
   "outputs": [],
   "source": []
  },
  {
   "cell_type": "code",
   "execution_count": 3,
   "id": "ba6d2941",
   "metadata": {},
   "outputs": [],
   "source": [
    "handle_compare_list(chat_id, 'e1afabf7-f860-444a-bda4-cf73217fd45e')"
   ]
  }
 ],
 "metadata": {
  "kernelspec": {
   "display_name": ".venv",
   "language": "python",
   "name": "python3"
  },
  "language_info": {
   "codemirror_mode": {
    "name": "ipython",
    "version": 3
   },
   "file_extension": ".py",
   "mimetype": "text/x-python",
   "name": "python",
   "nbconvert_exporter": "python",
   "pygments_lexer": "ipython3",
   "version": "3.9.6"
  }
 },
 "nbformat": 4,
 "nbformat_minor": 5
}
