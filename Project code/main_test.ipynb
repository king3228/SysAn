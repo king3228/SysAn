{
 "cells": [
  {
   "cell_type": "markdown",
   "id": "51b601ca",
   "metadata": {},
   "source": [
    "### Object Storage secrets import"
   ]
  },
  {
   "cell_type": "code",
   "execution_count": 9,
   "id": "9c887a7f",
   "metadata": {},
   "outputs": [],
   "source": [
    "from dotenv import load_dotenv\n",
    "import os\n",
    "\n",
    "load_dotenv('/Users/p.miroshin/Documents/Masters/2d_year/keys.env')\n",
    "\n",
    "ACCESS_SECRET_KEY = os.getenv(\"ACCESS_SECRET_KEY\")\n",
    "ACCESS_KEY_ID = os.getenv(\"ACCESS_KEY_ID\")"
   ]
  },
  {
   "cell_type": "markdown",
   "id": "27c01a0d",
   "metadata": {},
   "source": [
    "### Object Storage test functions"
   ]
  },
  {
   "cell_type": "code",
   "execution_count": 10,
   "id": "ae55f1a0",
   "metadata": {},
   "outputs": [],
   "source": [
    "from object_storage import (  # Ваши функции находятся в модуле object_storage\n",
    "    read_table_from_s3_csv,\n",
    "    write_table_to_s3_csv,\n",
    "    get_old_timestamp,\n",
    "    get_current_timestamp,\n",
    "    check_user_exists,\n",
    "    add_user,\n",
    "    update_last_updated,\n",
    "    add_shiki_to_user,\n",
    "    load_user_anime_list,\n",
    "    get_context_data,\n",
    "    generate_id\n",
    ")\n",
    "import pandas as pd"
   ]
  },
  {
   "cell_type": "code",
   "execution_count": 17,
   "id": "7d52ff6a",
   "metadata": {},
   "outputs": [],
   "source": [
    "df = read_table_from_s3_csv('anime.csv')"
   ]
  },
  {
   "cell_type": "code",
   "execution_count": 18,
   "id": "175576af",
   "metadata": {},
   "outputs": [
    {
     "data": {
      "text/html": [
       "<div>\n",
       "<style scoped>\n",
       "    .dataframe tbody tr th:only-of-type {\n",
       "        vertical-align: middle;\n",
       "    }\n",
       "\n",
       "    .dataframe tbody tr th {\n",
       "        vertical-align: top;\n",
       "    }\n",
       "\n",
       "    .dataframe thead th {\n",
       "        text-align: right;\n",
       "    }\n",
       "</style>\n",
       "<table border=\"1\" class=\"dataframe\">\n",
       "  <thead>\n",
       "    <tr style=\"text-align: right;\">\n",
       "      <th></th>\n",
       "      <th>anime_id</th>\n",
       "      <th>title</th>\n",
       "      <th>average_score</th>\n",
       "      <th>genres</th>\n",
       "      <th>type</th>\n",
       "      <th>episode_duration</th>\n",
       "      <th>episode_count</th>\n",
       "      <th>poster_url</th>\n",
       "    </tr>\n",
       "  </thead>\n",
       "  <tbody>\n",
       "    <tr>\n",
       "      <th>0</th>\n",
       "      <td>1</td>\n",
       "      <td>Naruto</td>\n",
       "      <td>NaN</td>\n",
       "      <td>NaN</td>\n",
       "      <td>NaN</td>\n",
       "      <td>NaN</td>\n",
       "      <td>NaN</td>\n",
       "      <td>NaN</td>\n",
       "    </tr>\n",
       "    <tr>\n",
       "      <th>1</th>\n",
       "      <td>35790</td>\n",
       "      <td>Tate no Yuusha no Nariagari</td>\n",
       "      <td>7.94</td>\n",
       "      <td>Action, Adventure, Drama, Fantasy, Isekai</td>\n",
       "      <td>Anime</td>\n",
       "      <td>25.0</td>\n",
       "      <td>25.0</td>\n",
       "      <td>https://nyaa.shikimori.one/uploads/poster/anim...</td>\n",
       "    </tr>\n",
       "    <tr>\n",
       "      <th>2</th>\n",
       "      <td>35849</td>\n",
       "      <td>Darling in the FranXX</td>\n",
       "      <td>7.19</td>\n",
       "      <td>Action, Drama, Romance, Sci-Fi, Mecha</td>\n",
       "      <td>Anime</td>\n",
       "      <td>24.0</td>\n",
       "      <td>24.0</td>\n",
       "      <td>https://nyaa.shikimori.one/uploads/poster/anim...</td>\n",
       "    </tr>\n",
       "    <tr>\n",
       "      <th>3</th>\n",
       "      <td>37105</td>\n",
       "      <td>Grand Blue</td>\n",
       "      <td>8.43</td>\n",
       "      <td>Seinen, Comedy, Adult Cast, Gag Humor</td>\n",
       "      <td>Anime</td>\n",
       "      <td>12.0</td>\n",
       "      <td>12.0</td>\n",
       "      <td>https://nyaa.shikimori.one/uploads/poster/anim...</td>\n",
       "    </tr>\n",
       "    <tr>\n",
       "      <th>4</th>\n",
       "      <td>121</td>\n",
       "      <td>Fullmetal Alchemist</td>\n",
       "      <td>8.11</td>\n",
       "      <td>Shounen, Action, Adventure, Drama, Fantasy, Aw...</td>\n",
       "      <td>Anime</td>\n",
       "      <td>51.0</td>\n",
       "      <td>51.0</td>\n",
       "      <td>https://dere.shikimori.one/uploads/poster/anim...</td>\n",
       "    </tr>\n",
       "    <tr>\n",
       "      <th>...</th>\n",
       "      <td>...</td>\n",
       "      <td>...</td>\n",
       "      <td>...</td>\n",
       "      <td>...</td>\n",
       "      <td>...</td>\n",
       "      <td>...</td>\n",
       "      <td>...</td>\n",
       "      <td>...</td>\n",
       "    </tr>\n",
       "    <tr>\n",
       "      <th>699</th>\n",
       "      <td>60022</td>\n",
       "      <td>One Piece Fan Letter</td>\n",
       "      <td>9.10</td>\n",
       "      <td>Shounen, Action, Adventure, Fantasy</td>\n",
       "      <td>Anime</td>\n",
       "      <td>1.0</td>\n",
       "      <td>1.0</td>\n",
       "      <td>https://nyaa.shikimori.one/uploads/poster/anim...</td>\n",
       "    </tr>\n",
       "    <tr>\n",
       "      <th>700</th>\n",
       "      <td>48542</td>\n",
       "      <td>Do It Yourself!!</td>\n",
       "      <td>7.45</td>\n",
       "      <td>Slice of Life, CGDCT, School</td>\n",
       "      <td>Anime</td>\n",
       "      <td>12.0</td>\n",
       "      <td>12.0</td>\n",
       "      <td>https://dere.shikimori.one/uploads/poster/anim...</td>\n",
       "    </tr>\n",
       "    <tr>\n",
       "      <th>701</th>\n",
       "      <td>58216</td>\n",
       "      <td>Übel Blatt</td>\n",
       "      <td>0.00</td>\n",
       "      <td>Seinen, Action, Adventure, Fantasy, Ecchi</td>\n",
       "      <td>Anime</td>\n",
       "      <td>0.0</td>\n",
       "      <td>0.0</td>\n",
       "      <td>https://dere.shikimori.one/uploads/poster/anim...</td>\n",
       "    </tr>\n",
       "    <tr>\n",
       "      <th>702</th>\n",
       "      <td>50694</td>\n",
       "      <td>Summer Pockets</td>\n",
       "      <td>0.00</td>\n",
       "      <td>Slice of Life</td>\n",
       "      <td>Anime</td>\n",
       "      <td>0.0</td>\n",
       "      <td>0.0</td>\n",
       "      <td>https://dere.shikimori.one/uploads/poster/anim...</td>\n",
       "    </tr>\n",
       "    <tr>\n",
       "      <th>703</th>\n",
       "      <td>60146</td>\n",
       "      <td>Saikyou no Ousama, Nidome no Jinsei wa Nani wo...</td>\n",
       "      <td>0.00</td>\n",
       "      <td>Fantasy, Reincarnation</td>\n",
       "      <td>Anime</td>\n",
       "      <td>0.0</td>\n",
       "      <td>0.0</td>\n",
       "      <td>https://dere.shikimori.one/uploads/poster/anim...</td>\n",
       "    </tr>\n",
       "  </tbody>\n",
       "</table>\n",
       "<p>704 rows × 8 columns</p>\n",
       "</div>"
      ],
      "text/plain": [
       "     anime_id                                              title  \\\n",
       "0           1                                             Naruto   \n",
       "1       35790                        Tate no Yuusha no Nariagari   \n",
       "2       35849                              Darling in the FranXX   \n",
       "3       37105                                         Grand Blue   \n",
       "4         121                                Fullmetal Alchemist   \n",
       "..        ...                                                ...   \n",
       "699     60022                               One Piece Fan Letter   \n",
       "700     48542                                   Do It Yourself!!   \n",
       "701     58216                                         Übel Blatt   \n",
       "702     50694                                     Summer Pockets   \n",
       "703     60146  Saikyou no Ousama, Nidome no Jinsei wa Nani wo...   \n",
       "\n",
       "     average_score                                             genres   type  \\\n",
       "0              NaN                                                NaN    NaN   \n",
       "1             7.94          Action, Adventure, Drama, Fantasy, Isekai  Anime   \n",
       "2             7.19              Action, Drama, Romance, Sci-Fi, Mecha  Anime   \n",
       "3             8.43              Seinen, Comedy, Adult Cast, Gag Humor  Anime   \n",
       "4             8.11  Shounen, Action, Adventure, Drama, Fantasy, Aw...  Anime   \n",
       "..             ...                                                ...    ...   \n",
       "699           9.10                Shounen, Action, Adventure, Fantasy  Anime   \n",
       "700           7.45                       Slice of Life, CGDCT, School  Anime   \n",
       "701           0.00          Seinen, Action, Adventure, Fantasy, Ecchi  Anime   \n",
       "702           0.00                                      Slice of Life  Anime   \n",
       "703           0.00                             Fantasy, Reincarnation  Anime   \n",
       "\n",
       "     episode_duration  episode_count  \\\n",
       "0                 NaN            NaN   \n",
       "1                25.0           25.0   \n",
       "2                24.0           24.0   \n",
       "3                12.0           12.0   \n",
       "4                51.0           51.0   \n",
       "..                ...            ...   \n",
       "699               1.0            1.0   \n",
       "700              12.0           12.0   \n",
       "701               0.0            0.0   \n",
       "702               0.0            0.0   \n",
       "703               0.0            0.0   \n",
       "\n",
       "                                            poster_url  \n",
       "0                                                  NaN  \n",
       "1    https://nyaa.shikimori.one/uploads/poster/anim...  \n",
       "2    https://nyaa.shikimori.one/uploads/poster/anim...  \n",
       "3    https://nyaa.shikimori.one/uploads/poster/anim...  \n",
       "4    https://dere.shikimori.one/uploads/poster/anim...  \n",
       "..                                                 ...  \n",
       "699  https://nyaa.shikimori.one/uploads/poster/anim...  \n",
       "700  https://dere.shikimori.one/uploads/poster/anim...  \n",
       "701  https://dere.shikimori.one/uploads/poster/anim...  \n",
       "702  https://dere.shikimori.one/uploads/poster/anim...  \n",
       "703  https://dere.shikimori.one/uploads/poster/anim...  \n",
       "\n",
       "[704 rows x 8 columns]"
      ]
     },
     "execution_count": 18,
     "metadata": {},
     "output_type": "execute_result"
    }
   ],
   "source": [
    "df"
   ]
  },
  {
   "cell_type": "code",
   "execution_count": 1,
   "id": "f2352d66",
   "metadata": {},
   "outputs": [],
   "source": [
    "from main import *"
   ]
  },
  {
   "cell_type": "code",
   "execution_count": 6,
   "id": "1197f5fc",
   "metadata": {},
   "outputs": [],
   "source": [
    "chat_id = 505096036\n",
    "title = 'test'"
   ]
  },
  {
   "cell_type": "code",
   "execution_count": 15,
   "id": "661c79c4",
   "metadata": {},
   "outputs": [],
   "source": [
    "handle_message(chat_id, '1018441')"
   ]
  },
  {
   "cell_type": "code",
   "execution_count": 3,
   "id": "13ea9224",
   "metadata": {},
   "outputs": [],
   "source": [
    "import json"
   ]
  },
  {
   "cell_type": "code",
   "execution_count": 8,
   "id": "46624057",
   "metadata": {},
   "outputs": [],
   "source": [
    "recommendations = [\n",
    "    {\"название\": \"Noumin Kanren no Skill bakka Agetetara Nazeka Tsuyoku Natta.\"},\n",
    "    {\"название\": \"Isekai de Cheat Skill wo Te ni Shita Ore wa, Genjitsu Sekai wo mo Musou Suru: Level Up wa Jinsei wo Kaeta\"},\n",
    "    {\"название\": \"Sousou no Frieren\"}\n",
    "]\n"
   ]
  },
  {
   "cell_type": "code",
   "execution_count": 7,
   "id": "7bc5e211",
   "metadata": {},
   "outputs": [
    {
     "data": {
      "text/plain": [
       "{'id': '27899',\n",
       " 'name': 'Tokyo Ghoul √A',\n",
       " 'score': 7.02,\n",
       " 'kind': 'tv',\n",
       " 'episodes': 12,\n",
       " 'duration': 24,\n",
       " 'season': 'winter_2015',\n",
       " 'url': 'https://shikimori.one/animes/27899-tokyo-ghoul-a',\n",
       " 'genres': [{'name': 'Seinen'},\n",
       "  {'name': 'Action'},\n",
       "  {'name': 'Fantasy'},\n",
       "  {'name': 'Horror'},\n",
       "  {'name': 'Suspense'},\n",
       "  {'name': 'Gore'},\n",
       "  {'name': 'Psychological'},\n",
       "  {'name': 'Urban Fantasy'}],\n",
       " 'poster': {'main2xUrl': 'https://dere.shikimori.one/uploads/poster/animes/27899/main_2x-ecb2986aa37c32befc822795f826d239.webp'},\n",
       " 'description': 'Битва за Одиннадцатый район в самом разгаре: члены «Древа Аогири» схлестнулись с лучшими следователями CCG, а команда «Антэйку» уверенно прорывается через вражескую территорию, попутно избавляясь и от тех, и от других. В то же время Кэн Канэки [金木 研], наконец-то пробудивший доставшиеся ему от [character=103409]Ризэ[/character] способности, спасается из комнаты пыток [character=110243]Джейсона[/character] и спешит выбраться на поверхность, где ему предоставится отличный шанс продемонстрировать новоприобретённые силы.\\n\\nДо этого момента он мешкал и сомневался, боясь своим неправильным выбором причинить кому-нибудь боль. Но, как сказала [character=103409]Ризэ[/character]: «Сильный пожирает слабого». Теперь Кэн, казалось бы, нашёл выход из ситуации. Вот только все ли проблемы сможет решить его новая философия, ведь на множество вопросов до сих пор нет ответов. Почему Канэки смог выжить после пересадки органов гуля? Какие цели преследует «Древо Аогири»? Что скрывает Йошимура [芳村]? И что на самом деле произошло в ту ночь с [character=103409]Камиширо[/character]?'}"
      ]
     },
     "execution_count": 7,
     "metadata": {},
     "output_type": "execute_result"
    }
   ],
   "source": [
    "anime_info"
   ]
  },
  {
   "cell_type": "code",
   "execution_count": 1,
   "id": "b334fe52",
   "metadata": {},
   "outputs": [],
   "source": [
    "from yandex_gpt_alpha import *"
   ]
  },
  {
   "cell_type": "code",
   "execution_count": 8,
   "id": "f177bb5b",
   "metadata": {},
   "outputs": [
    {
     "name": "stdout",
     "output_type": "stream",
     "text": [
      "{'result': {'alternatives': [{'message': {'role': 'assistant', 'text': '```\\n[\\n    {\"1\": \"Attack on Titan\"},\\n    {\"2\": \"Berserk\"},\\n    {\"3\": \"Vinland Saga\"}\\n]\\n```'}, 'status': 'ALTERNATIVE_STATUS_FINAL'}], 'usage': {'inputTextTokens': '294', 'completionTokens': '37', 'totalTokens': '331'}, 'modelVersion': '23.10.2024'}}\n"
     ]
    }
   ],
   "source": [
    "user_data = {\n",
    "    'top_genre': 'Action',\n",
    "    'median_episodes': 12.0,\n",
    "    'top_titles': ['Grand Blue', 'Fullmetal Alchemist', 'Fullmetal Alchemist: Brotherhood'],\n",
    "    'bottom_titles': [\n",
    "        'Noumin Kanren no Skill bakka Agetetara Nazeka Tsuyoku Natta.',\n",
    "        'Isekai de Cheat Skill wo Te ni Shita Ore wa, Genjitsu Sekai wo mo Musou Suru: Level Up wa Jinsei wo Kaeta',\n",
    "        'Tokyo Ghoul √A'\n",
    "    ]\n",
    "}\n",
    "\n",
    "# Запрос пользователя\n",
    "user_query = \"Хочу посмотреть аниме с  интересной драмой\"\n",
    "\n",
    "# Вызов функции\n",
    "result = get_anime_recommendations(user_data, user_query)\n",
    "\n",
    "# Вывод результата\n",
    "print(result)"
   ]
  },
  {
   "cell_type": "code",
   "execution_count": 2,
   "id": "1c656908",
   "metadata": {},
   "outputs": [
    {
     "name": "stdout",
     "output_type": "stream",
     "text": [
      "[{'название': 'Boku no Hero Academia'}, {'название': 'My Hero Academia: Season 5'}, {'название': 'Attack on Titan'}]\n"
     ]
    }
   ],
   "source": [
    "# Пример исходных данных от API\n",
    "api_response = {\n",
    "    'result': {\n",
    "        'alternatives': [\n",
    "            {\n",
    "                'message': {\n",
    "                    'role': 'assistant',\n",
    "                    'text': '```\\n[\\n    {\"1\": \"Boku no Hero Academia\"},\\n    {\"2\": \"My Hero Academia: Season 5\"},\\n    {\"3\": \"Attack on Titan\"}\\n]\\n```'\n",
    "                },\n",
    "                'status': 'ALTERNATIVE_STATUS_FINAL'\n",
    "            }\n",
    "        ],\n",
    "        'usage': {\n",
    "            'inputTextTokens': '298',\n",
    "            'completionTokens': '43',\n",
    "            'totalTokens': '341'\n",
    "        },\n",
    "        'modelVersion': '23.10.2024'\n",
    "    }\n",
    "}\n",
    "\n",
    "# Вызов функции для обработки ответа\n",
    "recommendations = format_recommendations(api_response)\n",
    "\n",
    "# Вывод результата\n",
    "print(recommendations)"
   ]
  },
  {
   "cell_type": "code",
   "execution_count": 67,
   "id": "3f20a156",
   "metadata": {},
   "outputs": [],
   "source": [
    "from main import *"
   ]
  },
  {
   "cell_type": "code",
   "execution_count": 7,
   "id": "f395b9bc",
   "metadata": {},
   "outputs": [
    {
     "name": "stdout",
     "output_type": "stream",
     "text": [
      "Error sending message: 400 Client Error: Bad Request for url: https://api.telegram.org/bot8046820225:AAHsGMS7vJIg-CbrqfV3MuOK5_N_8zKwI-U/sendPhoto\n",
      "Error sending message: 400 Client Error: Bad Request for url: https://api.telegram.org/bot8046820225:AAHsGMS7vJIg-CbrqfV3MuOK5_N_8zKwI-U/sendPhoto\n"
     ]
    }
   ],
   "source": [
    "for recommendation in recommendations:\n",
    "                title = recommendation.get('название')\n",
    "                anime_info = get_anime_by_title(title)\n",
    "                time.sleep(1)  # Предотвращение перегрузки API\n",
    "\n",
    "                if anime_info:\n",
    "                    text = (f\"{anime_info['name']} ({anime_info.get('season', 'N/A')})\\n\"\n",
    "                            f\"{anime_info['description']}\\nОценка: {anime_info['score']}\\n\"\n",
    "                            f\"Жанры: {', '.join([genre['name'] for genre in anime_info['genres']])}\")\n",
    "\n",
    "                    photo_url = anime_info['poster']['main2xUrl']\n",
    "                    result = send_message(\n",
    "                        chat_id, \n",
    "                        text=text, \n",
    "                        photo_url=photo_url, \n",
    "                        inline_button_text=\"Подробнее на Shikimori\", \n",
    "                        inline_button_url=anime_info['url']\n",
    "                    )\n",
    "\n",
    "                    if not result['success'] and result.get('status_code') == 400:\n",
    "                        # Повторите попытку без фото, если возникла ошибка 400\n",
    "                        send_message(\n",
    "                            chat_id,\n",
    "                            text=text,\n",
    "                            inline_button_text=\"Подробнее на Shikimori\",\n",
    "                            inline_button_url=anime_info['url']\n",
    "                        )\n",
    "                else:\n",
    "                    send_message(chat_id, f\"{title}\\nИзвините, технические неполадки.\")"
   ]
  },
  {
   "cell_type": "code",
   "execution_count": 1,
   "id": "2ada1ab3",
   "metadata": {},
   "outputs": [],
   "source": [
    "from main import *"
   ]
  },
  {
   "cell_type": "code",
   "execution_count": 2,
   "id": "fb5194b6",
   "metadata": {},
   "outputs": [],
   "source": [
    "chat_id = 505096036\n",
    "title = 'test'"
   ]
  },
  {
   "cell_type": "code",
   "execution_count": 9,
   "id": "c8c5c7b8",
   "metadata": {},
   "outputs": [],
   "source": [
    "handle_message(chat_id, '/get_recd')"
   ]
  },
  {
   "cell_type": "code",
   "execution_count": 10,
   "id": "968581bf",
   "metadata": {},
   "outputs": [
    {
     "name": "stdout",
     "output_type": "stream",
     "text": [
      "Error sending message: 400 Client Error: Bad Request for url: https://api.telegram.org/bot8046820225:AAHsGMS7vJIg-CbrqfV3MuOK5_N_8zKwI-U/sendPhoto\n",
      "Error sending message: 400 Client Error: Bad Request for url: https://api.telegram.org/bot8046820225:AAHsGMS7vJIg-CbrqfV3MuOK5_N_8zKwI-U/sendPhoto\n"
     ]
    }
   ],
   "source": [
    "handle_user_input_for_recommendations(chat_id, 'Хочу посмотреть аниме с  интересной драмой')"
   ]
  },
  {
   "cell_type": "code",
   "execution_count": 39,
   "id": "1b5ea5cb",
   "metadata": {},
   "outputs": [],
   "source": [
    "user_info = check_user_exists(chat_id)"
   ]
  },
  {
   "cell_type": "code",
   "execution_count": 59,
   "id": "3ed333a4",
   "metadata": {},
   "outputs": [],
   "source": [
    "last_updated = datetime.fromisoformat(user_info.loc[0, 'last_updated'])\n",
    "shikimori_username = user_info.loc[0, 'shikimori_username']\n",
    "current_time = datetime.now(timezone.utc)\n",
    "seconds_since_epoch = int(current_time.timestamp())\n",
    "last_updated = int(last_updated.timestamp())"
   ]
  },
  {
   "cell_type": "code",
   "execution_count": 61,
   "id": "a590699b",
   "metadata": {},
   "outputs": [
    {
     "data": {
      "text/plain": [
       "-1132"
      ]
     },
     "execution_count": 61,
     "metadata": {},
     "output_type": "execute_result"
    }
   ],
   "source": []
  },
  {
   "cell_type": "code",
   "execution_count": 60,
   "id": "b96872fe",
   "metadata": {},
   "outputs": [
    {
     "data": {
      "text/plain": [
       "1734356725"
      ]
     },
     "execution_count": 60,
     "metadata": {},
     "output_type": "execute_result"
    }
   ],
   "source": [
    "last_updated"
   ]
  },
  {
   "cell_type": "code",
   "execution_count": 57,
   "id": "f90bbec5",
   "metadata": {},
   "outputs": [
    {
     "data": {
      "text/plain": [
       "1734357817"
      ]
     },
     "execution_count": 57,
     "metadata": {},
     "output_type": "execute_result"
    }
   ],
   "source": [
    "seconds_since_epoch"
   ]
  },
  {
   "cell_type": "code",
   "execution_count": 38,
   "id": "4340912e",
   "metadata": {},
   "outputs": [],
   "source": [
    "update_last_updated(chat_id)"
   ]
  },
  {
   "cell_type": "code",
   "execution_count": 40,
   "id": "2f49e9a8",
   "metadata": {},
   "outputs": [
    {
     "data": {
      "text/html": [
       "<div>\n",
       "<style scoped>\n",
       "    .dataframe tbody tr th:only-of-type {\n",
       "        vertical-align: middle;\n",
       "    }\n",
       "\n",
       "    .dataframe tbody tr th {\n",
       "        vertical-align: top;\n",
       "    }\n",
       "\n",
       "    .dataframe thead th {\n",
       "        text-align: right;\n",
       "    }\n",
       "</style>\n",
       "<table border=\"1\" class=\"dataframe\">\n",
       "  <thead>\n",
       "    <tr style=\"text-align: right;\">\n",
       "      <th></th>\n",
       "      <th>chat_id</th>\n",
       "      <th>shikimori_username</th>\n",
       "      <th>last_updated</th>\n",
       "    </tr>\n",
       "  </thead>\n",
       "  <tbody>\n",
       "    <tr>\n",
       "      <th>0</th>\n",
       "      <td>505096036</td>\n",
       "      <td>1018441</td>\n",
       "      <td>2024-12-16T13:45:25.443949+00:00</td>\n",
       "    </tr>\n",
       "  </tbody>\n",
       "</table>\n",
       "</div>"
      ],
      "text/plain": [
       "     chat_id  shikimori_username                      last_updated\n",
       "0  505096036             1018441  2024-12-16T13:45:25.443949+00:00"
      ]
     },
     "execution_count": 40,
     "metadata": {},
     "output_type": "execute_result"
    }
   ],
   "source": [
    "user_info"
   ]
  },
  {
   "cell_type": "code",
   "execution_count": 27,
   "id": "772381a3",
   "metadata": {},
   "outputs": [],
   "source": [
    "last_updated = user_info.loc[0, 'last_updated']\n",
    "shikimori_username = user_info.loc[0, 'shikimori_username']"
   ]
  },
  {
   "cell_type": "code",
   "execution_count": 29,
   "id": "ba7e34f7",
   "metadata": {},
   "outputs": [
    {
     "data": {
      "text/plain": [
       "np.int64(1018441)"
      ]
     },
     "execution_count": 29,
     "metadata": {},
     "output_type": "execute_result"
    }
   ],
   "source": [
    "shikimori_username"
   ]
  }
 ],
 "metadata": {
  "kernelspec": {
   "display_name": ".venv",
   "language": "python",
   "name": "python3"
  },
  "language_info": {
   "codemirror_mode": {
    "name": "ipython",
    "version": 3
   },
   "file_extension": ".py",
   "mimetype": "text/x-python",
   "name": "python",
   "nbconvert_exporter": "python",
   "pygments_lexer": "ipython3",
   "version": "3.9.6"
  }
 },
 "nbformat": 4,
 "nbformat_minor": 5
}
