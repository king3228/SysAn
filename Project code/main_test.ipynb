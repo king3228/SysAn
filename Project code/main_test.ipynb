{
 "cells": [
  {
   "cell_type": "markdown",
   "id": "51b601ca",
   "metadata": {},
   "source": [
    "### Object Storage secrets import"
   ]
  },
  {
   "cell_type": "code",
   "execution_count": 8,
   "id": "9c887a7f",
   "metadata": {},
   "outputs": [],
   "source": [
    "from dotenv import load_dotenv\n",
    "import os\n",
    "\n",
    "load_dotenv('/Users/p.miroshin/Documents/Masters/2d_year/keys.env')\n",
    "\n",
    "ACCESS_SECRET_KEY = os.getenv(\"ACCESS_SECRET_KEY\")\n",
    "ACCESS_KEY_ID = os.getenv(\"ACCESS_KEY_ID\")"
   ]
  },
  {
   "cell_type": "markdown",
   "id": "27c01a0d",
   "metadata": {},
   "source": [
    "### Object Storage test functions"
   ]
  },
  {
   "cell_type": "code",
   "execution_count": 1,
   "id": "ae55f1a0",
   "metadata": {},
   "outputs": [],
   "source": [
    "from object_storage import (  # Ваши функции находятся в модуле object_storage\n",
    "    read_table_from_s3_csv,\n",
    "    write_table_to_s3_csv,\n",
    "    get_old_timestamp,\n",
    "    get_current_timestamp,\n",
    "    check_user_exists,\n",
    "    add_user,\n",
    "    update_last_updated,\n",
    "    add_shiki_to_user,\n",
    "    load_user_anime_list,\n",
    "    get_context_data,\n",
    "    generate_id\n",
    ")\n",
    "import pandas as pd"
   ]
  },
  {
   "cell_type": "code",
   "execution_count": 2,
   "id": "7d52ff6a",
   "metadata": {},
   "outputs": [
    {
     "data": {
      "text/html": [
       "<div>\n",
       "<style scoped>\n",
       "    .dataframe tbody tr th:only-of-type {\n",
       "        vertical-align: middle;\n",
       "    }\n",
       "\n",
       "    .dataframe tbody tr th {\n",
       "        vertical-align: top;\n",
       "    }\n",
       "\n",
       "    .dataframe thead th {\n",
       "        text-align: right;\n",
       "    }\n",
       "</style>\n",
       "<table border=\"1\" class=\"dataframe\">\n",
       "  <thead>\n",
       "    <tr style=\"text-align: right;\">\n",
       "      <th></th>\n",
       "      <th>user_anime_id</th>\n",
       "      <th>chat_id</th>\n",
       "      <th>anime_id</th>\n",
       "      <th>status</th>\n",
       "      <th>user_score</th>\n",
       "    </tr>\n",
       "  </thead>\n",
       "  <tbody>\n",
       "    <tr>\n",
       "      <th>0</th>\n",
       "      <td>1</td>\n",
       "      <td>1</td>\n",
       "      <td>1</td>\n",
       "      <td>finished</td>\n",
       "      <td>10</td>\n",
       "    </tr>\n",
       "  </tbody>\n",
       "</table>\n",
       "</div>"
      ],
      "text/plain": [
       "   user_anime_id  chat_id  anime_id    status  user_score\n",
       "0              1        1         1  finished          10"
      ]
     },
     "execution_count": 2,
     "metadata": {},
     "output_type": "execute_result"
    }
   ],
   "source": [
    "read_table_from_s3_csv('user_anime.csv')"
   ]
  },
  {
   "cell_type": "code",
   "execution_count": null,
   "id": "f2352d66",
   "metadata": {},
   "outputs": [],
   "source": []
  }
 ],
 "metadata": {
  "kernelspec": {
   "display_name": ".venv",
   "language": "python",
   "name": "python3"
  },
  "language_info": {
   "codemirror_mode": {
    "name": "ipython",
    "version": 3
   },
   "file_extension": ".py",
   "mimetype": "text/x-python",
   "name": "python",
   "nbconvert_exporter": "python",
   "pygments_lexer": "ipython3",
   "version": "3.9.6"
  }
 },
 "nbformat": 4,
 "nbformat_minor": 5
}
