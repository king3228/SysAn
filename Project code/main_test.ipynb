{
 "cells": [
  {
   "cell_type": "markdown",
   "id": "51b601ca",
   "metadata": {},
   "source": [
    "### Object Storage secrets import"
   ]
  },
  {
   "cell_type": "code",
   "execution_count": 1,
   "id": "9c887a7f",
   "metadata": {},
   "outputs": [],
   "source": [
    "from dotenv import load_dotenv\n",
    "import os\n",
    "\n",
    "load_dotenv('/Users/p.miroshin/Documents/Masters/2d_year/keys.env')\n",
    "\n",
    "ACCESS_SECRET_KEY = os.getenv(\"ACCESS_SECRET_KEY\")\n",
    "ACCESS_KEY_ID = os.getenv(\"ACCESS_KEY_ID\")"
   ]
  },
  {
   "cell_type": "markdown",
   "id": "27c01a0d",
   "metadata": {},
   "source": [
    "### Object Storage test functions"
   ]
  },
  {
   "cell_type": "code",
   "execution_count": 4,
   "id": "ae55f1a0",
   "metadata": {},
   "outputs": [],
   "source": [
    "from object_storage import (  # Ваши функции находятся в модуле object_storage\n",
    "    read_table_from_s3_csv,\n",
    "    write_table_to_s3_csv,\n",
    "    get_old_timestamp,\n",
    "    get_current_timestamp,\n",
    "    check_user_exists,\n",
    "    add_user,\n",
    "    update_last_updated,\n",
    "    add_shiki_to_user,\n",
    "    load_user_anime_list,\n",
    "    get_context_data,\n",
    "    generate_id\n",
    ")\n",
    "import pandas as pd"
   ]
  },
  {
   "cell_type": "code",
   "execution_count": 2,
   "id": "13ea9224",
   "metadata": {},
   "outputs": [],
   "source": [
    "import json"
   ]
  },
  {
   "cell_type": "code",
   "execution_count": 8,
   "id": "46624057",
   "metadata": {},
   "outputs": [],
   "source": [
    "recommendations = [\n",
    "    {\"название\": \"Noumin Kanren no Skill bakka Agetetara Nazeka Tsuyoku Natta.\"},\n",
    "    {\"название\": \"Isekai de Cheat Skill wo Te ni Shita Ore wa, Genjitsu Sekai wo mo Musou Suru: Level Up wa Jinsei wo Kaeta\"},\n",
    "    {\"название\": \"Sousou no Frieren\"}\n",
    "]\n"
   ]
  },
  {
   "cell_type": "code",
   "execution_count": 1,
   "id": "b334fe52",
   "metadata": {},
   "outputs": [],
   "source": [
    "from yandex_gpt_alpha import *"
   ]
  },
  {
   "cell_type": "code",
   "execution_count": 8,
   "id": "f177bb5b",
   "metadata": {},
   "outputs": [
    {
     "name": "stdout",
     "output_type": "stream",
     "text": [
      "{'result': {'alternatives': [{'message': {'role': 'assistant', 'text': '```\\n[\\n    {\"1\": \"Attack on Titan\"},\\n    {\"2\": \"Berserk\"},\\n    {\"3\": \"Vinland Saga\"}\\n]\\n```'}, 'status': 'ALTERNATIVE_STATUS_FINAL'}], 'usage': {'inputTextTokens': '294', 'completionTokens': '37', 'totalTokens': '331'}, 'modelVersion': '23.10.2024'}}\n"
     ]
    }
   ],
   "source": [
    "user_data = {\n",
    "    'top_genre': 'Action',\n",
    "    'median_episodes': 12.0,\n",
    "    'top_titles': ['Grand Blue', 'Fullmetal Alchemist', 'Fullmetal Alchemist: Brotherhood'],\n",
    "    'bottom_titles': [\n",
    "        'Noumin Kanren no Skill bakka Agetetara Nazeka Tsuyoku Natta.',\n",
    "        'Isekai de Cheat Skill wo Te ni Shita Ore wa, Genjitsu Sekai wo mo Musou Suru: Level Up wa Jinsei wo Kaeta',\n",
    "        'Tokyo Ghoul √A'\n",
    "    ]\n",
    "}\n",
    "\n",
    "# Запрос пользователя\n",
    "user_query = \"Хочу посмотреть аниме с  интересной драмой\"\n",
    "\n",
    "# Вызов функции\n",
    "result = get_anime_recommendations(user_data, user_query)\n",
    "\n",
    "# Вывод результата\n",
    "print(result)"
   ]
  },
  {
   "cell_type": "code",
   "execution_count": 2,
   "id": "1c656908",
   "metadata": {},
   "outputs": [
    {
     "name": "stdout",
     "output_type": "stream",
     "text": [
      "[{'название': 'Boku no Hero Academia'}, {'название': 'My Hero Academia: Season 5'}, {'название': 'Attack on Titan'}]\n"
     ]
    }
   ],
   "source": [
    "# Пример исходных данных от API\n",
    "api_response = {\n",
    "    'result': {\n",
    "        'alternatives': [\n",
    "            {\n",
    "                'message': {\n",
    "                    'role': 'assistant',\n",
    "                    'text': '```\\n[\\n    {\"1\": \"Boku no Hero Academia\"},\\n    {\"2\": \"My Hero Academia: Season 5\"},\\n    {\"3\": \"Attack on Titan\"}\\n]\\n```'\n",
    "                },\n",
    "                'status': 'ALTERNATIVE_STATUS_FINAL'\n",
    "            }\n",
    "        ],\n",
    "        'usage': {\n",
    "            'inputTextTokens': '298',\n",
    "            'completionTokens': '43',\n",
    "            'totalTokens': '341'\n",
    "        },\n",
    "        'modelVersion': '23.10.2024'\n",
    "    }\n",
    "}\n",
    "\n",
    "# Вызов функции для обработки ответа\n",
    "recommendations = format_recommendations(api_response)\n",
    "\n",
    "# Вывод результата\n",
    "print(recommendations)"
   ]
  },
  {
   "cell_type": "code",
   "execution_count": 11,
   "id": "2ada1ab3",
   "metadata": {},
   "outputs": [],
   "source": [
    "from main import *"
   ]
  },
  {
   "cell_type": "code",
   "execution_count": 15,
   "id": "fb5194b6",
   "metadata": {},
   "outputs": [],
   "source": [
    "chat_id = 505096036\n",
    "title = 'test'"
   ]
  },
  {
   "cell_type": "code",
   "execution_count": 29,
   "id": "ba7e34f7",
   "metadata": {},
   "outputs": [
    {
     "data": {
      "text/plain": [
       "np.int64(1018441)"
      ]
     },
     "execution_count": 29,
     "metadata": {},
     "output_type": "execute_result"
    }
   ],
   "source": [
    "shikimori_username"
   ]
  },
  {
   "cell_type": "code",
   "execution_count": 4,
   "id": "008b52fc",
   "metadata": {},
   "outputs": [],
   "source": [
    "def success_response(data=None, message=\"Успешный запрос.\", code=200):\n",
    "    \"\"\"\n",
    "    Формирует успешный JSON-ответ.\n",
    "    \"\"\"\n",
    "    return {\n",
    "        \"status\": \"success\",\n",
    "        \"message\": message,\n",
    "        \"data\": data,\n",
    "        \"code\": code\n",
    "    }\n",
    "\n",
    "def error_response(message=\"Произошла ошибка.\", code=400):\n",
    "    \"\"\"\n",
    "    Формирует JSON-ответ при ошибке.\n",
    "    \"\"\"\n",
    "    return {\n",
    "        \"status\": \"error\",\n",
    "        \"message\": message,\n",
    "        \"data\": None,\n",
    "        \"code\": code\n",
    "    }\n",
    "\n",
    "\n",
    "\n",
    "ADMINS = [505096036, 123456789]\n",
    "\n",
    "\n",
    "def is_admin_user(chat_id):\n",
    "    \"\"\"\n",
    "    Проверяет, является ли пользователь администратором.\n",
    "    \"\"\"\n",
    "    return chat_id in ADMINS\n",
    "\n",
    "\n",
    "\n",
    "def create_recommended_list(chat_id, name, description, list_type, genre, year, anime_ids, created_by):\n",
    "    \"\"\"\n",
    "    Создание нового рекомендованного списка.\n",
    "    \"\"\"\n",
    "\n",
    "    # Проверяем права администратора\n",
    "    if not is_admin_user(chat_id):\n",
    "        return error_response(\"У вас нет прав для выполнения этой операции.\", code=401)\n",
    "\n",
    "    # Загружаем данные\n",
    "    recommended_lists = read_table_from_s3_csv('recommended_lists.csv')\n",
    "    recommended_list_items = read_table_from_s3_csv('recommended_list_items.csv')\n",
    "\n",
    "    # Проверяем дублирование имени\n",
    "    if not recommended_lists.empty and (recommended_lists['name'] == name).any():\n",
    "        return error_response(f\"Список с названием '{name}' уже существует.\", code=409)\n",
    "\n",
    "    # Создаем новый список\n",
    "    list_id = generate_id()\n",
    "    new_list = pd.DataFrame([{\n",
    "        'list_id': list_id,\n",
    "        'name': name,\n",
    "        'description': description,\n",
    "        'type': list_type,\n",
    "        'genre': genre,\n",
    "        'year': year,\n",
    "        'created_by': created_by,\n",
    "        'created_at': get_current_timestamp().isoformat(),\n",
    "        'updated_at': get_current_timestamp().isoformat()\n",
    "    }])\n",
    "    recommended_lists = pd.concat([recommended_lists, new_list], ignore_index=True)\n",
    "\n",
    "    # Добавляем элементы списка\n",
    "    new_items = pd.DataFrame([{\n",
    "        'list_id': list_id,\n",
    "        'anime_id': anime_id\n",
    "    } for anime_id in anime_ids])\n",
    "    recommended_list_items = pd.concat([recommended_list_items, new_items], ignore_index=True)\n",
    "\n",
    "    # Сохраняем изменения\n",
    "    write_table_to_s3_csv(recommended_lists, 'recommended_lists.csv')\n",
    "    write_table_to_s3_csv(recommended_list_items, 'recommended_list_items.csv')\n",
    "\n",
    "    return success_response(\n",
    "        message=f\"Список '{name}' успешно создан.\",\n",
    "        data={\"list_id\": list_id},\n",
    "        code=201\n",
    "    )\n",
    "\n",
    "\n",
    "\n",
    "def get_recommended_list_by_name(name):\n",
    "    recommended_lists = read_table_from_s3_csv('recommended_lists.csv')\n",
    "    recommended_list_items = read_table_from_s3_csv('recommended_list_items.csv')\n",
    "\n",
    "    recommended_list = recommended_lists[recommended_lists['name'] == name]\n",
    "\n",
    "    if recommended_list.empty:\n",
    "        return error_response(f\"Список с названием '{name}' не найден.\", code=404)\n",
    "\n",
    "    # Извлекаем ID списка и связанные тайтлы\n",
    "    list_id = recommended_list.iloc[0]['list_id']\n",
    "    list_items = recommended_list_items[recommended_list_items['list_id'] == list_id]\n",
    "    anime_ids = list_items['anime_id'].tolist()\n",
    "\n",
    "    result = {\n",
    "        \"list_id\": list_id,\n",
    "        \"name\": name,\n",
    "        \"description\": recommended_list.iloc[0]['description'],\n",
    "        \"type\": recommended_list.iloc[0]['type'],\n",
    "        \"genre\": recommended_list.iloc[0]['genre'],\n",
    "        \"year\": recommended_list.iloc[0]['year'],\n",
    "        \"anime_ids\": anime_ids\n",
    "    }\n",
    "\n",
    "    return success_response(data=result)\n",
    "\n",
    "\n",
    "\n",
    "def update_recommended_list(chat_id, list_id, name=None, description=None, anime_ids=None):\n",
    "    \"\"\"\n",
    "    Обновление рекомендованного списка.\n",
    "    \"\"\"\n",
    "\n",
    "    # Проверяем права администратора\n",
    "    if not is_admin_user(chat_id):\n",
    "        return error_response(\"У вас нет прав для выполнения этой операции.\", code=401)\n",
    "\n",
    "    # Загружаем данные\n",
    "    recommended_lists = read_table_from_s3_csv('recommended_lists.csv')\n",
    "    recommended_list_items = read_table_from_s3_csv('recommended_list_items.csv')\n",
    "\n",
    "    # Проверяем существование списка\n",
    "    if list_id not in recommended_lists['list_id'].values:\n",
    "        return error_response(f\"Список с ID '{list_id}' не найден.\", code=404)\n",
    "\n",
    "    # Обновляем данные\n",
    "    if name:\n",
    "        recommended_lists.loc[recommended_lists['list_id'] == list_id, 'name'] = name\n",
    "    if description:\n",
    "        recommended_lists.loc[recommended_lists['list_id'] == list_id, 'description'] = description\n",
    "\n",
    "    recommended_lists.loc[recommended_lists['list_id'] == list_id, 'updated_at'] = get_current_timestamp().isoformat()\n",
    "\n",
    "    # Обновляем элементы списка\n",
    "    if anime_ids is not None:\n",
    "        # Удаляем старые элементы и добавляем новые\n",
    "        recommended_list_items = recommended_list_items[recommended_list_items['list_id'] != list_id]\n",
    "        new_items = pd.DataFrame([{\n",
    "            'list_id': list_id,\n",
    "            'anime_id': anime_id\n",
    "        } for anime_id in anime_ids])\n",
    "        recommended_list_items = pd.concat([recommended_list_items, new_items], ignore_index=True)\n",
    "\n",
    "    # Сохраняем изменения\n",
    "    write_table_to_s3_csv(recommended_lists, 'recommended_lists.csv')\n",
    "    write_table_to_s3_csv(recommended_list_items, 'recommended_list_items.csv')\n",
    "\n",
    "    return success_response(message=f\"Список с ID '{list_id}' успешно обновлен.\")\n",
    "\n",
    "\n",
    "def compare_list_with_user(list_id, chat_id):\n",
    "    user_anime = read_table_from_s3_csv('user_anime.csv')\n",
    "    recommended_list_items = read_table_from_s3_csv('recommended_list_items.csv')\n",
    "\n",
    "    # Проверяем существование списка\n",
    "    list_items = recommended_list_items[recommended_list_items['list_id'] == list_id]\n",
    "    if list_items.empty:\n",
    "        return error_response(f\"Список с ID '{list_id}' не найден.\", code=404)\n",
    "\n",
    "    list_anime_ids = set(list_items['anime_id'].tolist())\n",
    "\n",
    "    # Проверяем просмотренные аниме пользователя\n",
    "    user_anime_list = user_anime[user_anime['chat_id'] == chat_id]\n",
    "    if user_anime_list.empty:\n",
    "        return error_response(f\"У пользователя с ID '{chat_id}' нет просмотренных аниме.\", code=404)\n",
    "\n",
    "    user_anime_ids = set(user_anime_list['anime_id'].tolist())\n",
    "\n",
    "    viewed = list(list_anime_ids & user_anime_ids)\n",
    "    not_viewed = list(list_anime_ids - user_anime_ids)\n",
    "\n",
    "    return success_response(data={\n",
    "        \"viewed\": viewed,\n",
    "        \"not_viewed\": not_viewed\n",
    "    })\n",
    "\n",
    "\n",
    "\n",
    "\n",
    "def get_recommended_list_by_name(name):\n",
    "    recommended_lists = read_table_from_s3_csv('recommended_lists.csv')\n",
    "    recommended_list_items = read_table_from_s3_csv('recommended_list_items.csv')\n",
    "\n",
    "    recommended_list = recommended_lists[recommended_lists['name'] == name]\n",
    "\n",
    "    if recommended_list.empty:\n",
    "        return error_response(f\"Список с названием '{name}' не найден.\", code=404)\n",
    "\n",
    "    # Извлекаем ID списка и связанные тайтлы\n",
    "    list_id = recommended_list.iloc[0]['list_id']\n",
    "    list_items = recommended_list_items[recommended_list_items['list_id'] == list_id]\n",
    "    anime_ids = list_items['anime_id'].tolist()\n",
    "\n",
    "    result = {\n",
    "        \"list_id\": list_id,\n",
    "        \"name\": name,\n",
    "        \"description\": recommended_list.iloc[0]['description'],\n",
    "        \"type\": recommended_list.iloc[0]['type'],\n",
    "        \"genre\": recommended_list.iloc[0]['genre'],\n",
    "        \"year\": recommended_list.iloc[0]['year'],\n",
    "        \"anime_ids\": anime_ids\n",
    "    }\n",
    "\n",
    "    return success_response(data=result)\n",
    "\n",
    "\n",
    "\n",
    "def get_all_recommended_lists():\n",
    "    recommended_lists = read_table_from_s3_csv('recommended_lists.csv')\n",
    "\n",
    "    if recommended_lists.empty:\n",
    "        return success_response(data=[], message=\"Списков нет.\", code=200)\n",
    "\n",
    "    result = recommended_lists.to_dict(orient='records')\n",
    "    return success_response(data=result)\n",
    "\n",
    "\n",
    "\n",
    "def delete_recommended_list(chat_id, list_id):\n",
    "    \"\"\"\n",
    "    Удаление рекомендованного списка.\n",
    "    \"\"\"\n",
    "\n",
    "    # Проверяем права администратора\n",
    "    if not is_admin_user(chat_id):\n",
    "        return error_response(\"У вас нет прав для выполнения этой операции.\", code=401)\n",
    "\n",
    "    # Загружаем данные\n",
    "    recommended_lists = read_table_from_s3_csv('recommended_lists.csv')\n",
    "    recommended_list_items = read_table_from_s3_csv('recommended_list_items.csv')\n",
    "\n",
    "    # Проверяем существование списка\n",
    "    if list_id not in recommended_lists['list_id'].values:\n",
    "        return error_response(f\"Список с ID '{list_id}' не найден.\", code=404)\n",
    "\n",
    "    # Удаляем список и связанные элементы\n",
    "    recommended_lists = recommended_lists[recommended_lists['list_id'] != list_id]\n",
    "    recommended_list_items = recommended_list_items[recommended_list_items['list_id'] != list_id]\n",
    "\n",
    "    # Сохраняем изменения\n",
    "    write_table_to_s3_csv(recommended_lists, 'recommended_lists.csv')\n",
    "    write_table_to_s3_csv(recommended_list_items, 'recommended_list_items.csv')\n",
    "\n",
    "    return success_response(message=f\"Список с ID '{list_id}' успешно удалён.\")"
   ]
  },
  {
   "cell_type": "code",
   "execution_count": null,
   "id": "116b8c57",
   "metadata": {},
   "outputs": [],
   "source": [
    "# Создание списка\n",
    "response = create_recommended_list(\n",
    "    name=\"Лучшие аниме для новичков\",\n",
    "    description=\"Подборка аниме для тех, кто только начал их смотреть.\",\n",
    "    list_type=\"Для новичков\",\n",
    "    genre=None,\n",
    "    year=None,\n",
    "    anime_ids=[101, 102, 103],\n",
    "    created_by=\"admin\"\n",
    ")\n",
    "print(response)\n",
    "\n",
    "# Получение списка\n",
    "response = get_recommended_list_by_name(\"Лучшие аниме для новичков\")\n",
    "print(response)\n",
    "\n",
    "# Обновление списка\n",
    "response = update_recommended_list(\n",
    "    list_id=\"some_list_id\",\n",
    "    name=\"Новое название\",\n",
    "    description=\"Новое описание\",\n",
    "    anime_ids=[103, 104, 105]\n",
    ")\n",
    "print(response)\n",
    "\n",
    "# Сравнение с просмотренными\n",
    "response = compare_list_with_user(list_id=\"some_list_id\", chat_id=505096036)\n",
    "print(response)\n",
    "\n",
    "# Вывод всех списков\n",
    "response = get_all_recommended_lists()\n",
    "print(response)"
   ]
  },
  {
   "cell_type": "code",
   "execution_count": null,
   "id": "c2a7a4f4",
   "metadata": {},
   "outputs": [],
   "source": [
    "response = create_recommended_list(\n",
    "    chat_id=505096036,  # Пользователь с админскими правами из `ADMINS`\n",
    "    name=\"Test\",\n",
    "    description=\"Список лучших боевых аниме.\",\n",
    "    list_type=\"Action\",\n",
    "    genre=\"Action\",\n",
    "    year=2023,\n",
    "    anime_ids=[101, 102, 103],\n",
    "    created_by=505096036\n",
    ")\n",
    "print(response)"
   ]
  },
  {
   "cell_type": "code",
   "execution_count": 42,
   "id": "e3836678",
   "metadata": {},
   "outputs": [
    {
     "data": {
      "text/plain": [
       "{'status': 'success',\n",
       " 'message': \"Список с ID '1' успешно обновлен.\",\n",
       " 'data': None,\n",
       " 'code': 200}"
      ]
     },
     "execution_count": 42,
     "metadata": {},
     "output_type": "execute_result"
    }
   ],
   "source": [
    "update_recommended_list(\n",
    "    chat_id=505096036,\n",
    "    list_id=1,\n",
    "    name=\"Новое название\",\n",
    "    description=\"Новое описание\",\n",
    "    anime_ids=[103, 104, 105]\n",
    ")"
   ]
  },
  {
   "cell_type": "code",
   "execution_count": 5,
   "id": "ce7bba83",
   "metadata": {},
   "outputs": [],
   "source": [
    "from object_storage import *"
   ]
  },
  {
   "cell_type": "code",
   "execution_count": 20,
   "id": "80db7382",
   "metadata": {},
   "outputs": [],
   "source": [
    "s3 = get_s3_client()"
   ]
  },
  {
   "cell_type": "code",
   "execution_count": null,
   "id": "9d0725d7",
   "metadata": {},
   "outputs": [],
   "source": [
    "response = s3.get_object(Bucket='bucket-first', Key='recommended_lists.csv')"
   ]
  },
  {
   "cell_type": "code",
   "execution_count": 21,
   "id": "c312b4d6",
   "metadata": {},
   "outputs": [
    {
     "data": {
      "text/html": [
       "<div>\n",
       "<style scoped>\n",
       "    .dataframe tbody tr th:only-of-type {\n",
       "        vertical-align: middle;\n",
       "    }\n",
       "\n",
       "    .dataframe tbody tr th {\n",
       "        vertical-align: top;\n",
       "    }\n",
       "\n",
       "    .dataframe thead th {\n",
       "        text-align: right;\n",
       "    }\n",
       "</style>\n",
       "<table border=\"1\" class=\"dataframe\">\n",
       "  <thead>\n",
       "    <tr style=\"text-align: right;\">\n",
       "      <th></th>\n",
       "      <th>list_id</th>\n",
       "      <th>name</th>\n",
       "      <th>description</th>\n",
       "      <th>type</th>\n",
       "      <th>genre</th>\n",
       "      <th>year</th>\n",
       "      <th>created_by</th>\n",
       "      <th>created_at</th>\n",
       "      <th>updated_at</th>\n",
       "    </tr>\n",
       "  </thead>\n",
       "  <tbody>\n",
       "    <tr>\n",
       "      <th>0</th>\n",
       "      <td>1</td>\n",
       "      <td>Легендарные аниме</td>\n",
       "      <td>Культовые аниме всех времён</td>\n",
       "      <td>Общий</td>\n",
       "      <td>Action</td>\n",
       "      <td>NaN</td>\n",
       "      <td>505096036</td>\n",
       "      <td>2024-12-22T12:51:49.268934</td>\n",
       "      <td>2024-12-22T12:51:49.268938</td>\n",
       "    </tr>\n",
       "    <tr>\n",
       "      <th>1</th>\n",
       "      <td>2</td>\n",
       "      <td>Аниме для новичков</td>\n",
       "      <td>Идеальные тайтлы для начала знакомства с аниме</td>\n",
       "      <td>Для новичков</td>\n",
       "      <td>NaN</td>\n",
       "      <td>NaN</td>\n",
       "      <td>505096036</td>\n",
       "      <td>2024-12-22T12:51:49.268939</td>\n",
       "      <td>2024-12-22T12:51:49.268939</td>\n",
       "    </tr>\n",
       "    <tr>\n",
       "      <th>2</th>\n",
       "      <td>3</td>\n",
       "      <td>Лучшие комедии</td>\n",
       "      <td>Весёлые комедийные аниме</td>\n",
       "      <td>Комедия</td>\n",
       "      <td>Comedy</td>\n",
       "      <td>2023.0</td>\n",
       "      <td>123456789</td>\n",
       "      <td>2024-12-22T12:51:49.268940</td>\n",
       "      <td>2024-12-22T12:51:49.268941</td>\n",
       "    </tr>\n",
       "  </tbody>\n",
       "</table>\n",
       "</div>"
      ],
      "text/plain": [
       "   list_id                name  \\\n",
       "0        1   Легендарные аниме   \n",
       "1        2  Аниме для новичков   \n",
       "2        3      Лучшие комедии   \n",
       "\n",
       "                                      description          type   genre  \\\n",
       "0                     Культовые аниме всех времён         Общий  Action   \n",
       "1  Идеальные тайтлы для начала знакомства с аниме  Для новичков     NaN   \n",
       "2                        Весёлые комедийные аниме       Комедия  Comedy   \n",
       "\n",
       "     year  created_by                  created_at                  updated_at  \n",
       "0     NaN   505096036  2024-12-22T12:51:49.268934  2024-12-22T12:51:49.268938  \n",
       "1     NaN   505096036  2024-12-22T12:51:49.268939  2024-12-22T12:51:49.268939  \n",
       "2  2023.0   123456789  2024-12-22T12:51:49.268940  2024-12-22T12:51:49.268941  "
      ]
     },
     "execution_count": 21,
     "metadata": {},
     "output_type": "execute_result"
    }
   ],
   "source": [
    "pd.read_csv(response['Body'])"
   ]
  },
  {
   "cell_type": "code",
   "execution_count": 3,
   "id": "1f1fda43",
   "metadata": {},
   "outputs": [],
   "source": [
    "import json"
   ]
  },
  {
   "cell_type": "code",
   "execution_count": 40,
   "id": "5c66f166",
   "metadata": {},
   "outputs": [],
   "source": [
    "from delete_recommended_list import delete_list_handler"
   ]
  },
  {
   "cell_type": "code",
   "execution_count": 49,
   "id": "5ba04e06",
   "metadata": {},
   "outputs": [],
   "source": [
    "event_delete_list = {\n",
    "    \"httpMethod\": \"DELETE\",\n",
    "    \"pathParameters\": {\n",
    "        \"list_id\": \"2a6-24b58bc1e635\"  # ID списка, который мы удаляем\n",
    "    },\n",
    "    \"headers\": {\n",
    "        \"Content-Type\": \"application/json\"\n",
    "    },\n",
    "    \"body\": json.dumps({\n",
    "        \"auth_key\": 123  # Ключ администратора для авторизации\n",
    "    })\n",
    "}\n",
    "context_delete_list = {}"
   ]
  },
  {
   "cell_type": "code",
   "execution_count": 50,
   "id": "dddea55a",
   "metadata": {},
   "outputs": [],
   "source": [
    "# Тестируем создание списка\n",
    "response = delete_list_handler(event_delete_list, context_delete_list)"
   ]
  },
  {
   "cell_type": "code",
   "execution_count": 51,
   "id": "a86b39a7",
   "metadata": {},
   "outputs": [
    {
     "data": {
      "text/plain": [
       "{'statusCode': 401,\n",
       " 'body': '{\"status\": \"error\", \"message\": \"У вас нет прав для выполнения этой операции.\", \"data\": null}'}"
      ]
     },
     "execution_count": 51,
     "metadata": {},
     "output_type": "execute_result"
    }
   ],
   "source": [
    "response"
   ]
  },
  {
   "cell_type": "code",
   "execution_count": 45,
   "id": "80138e59",
   "metadata": {},
   "outputs": [
    {
     "data": {
      "text/plain": [
       "{'status': 'success',\n",
       " 'message': 'Успешный запрос.',\n",
       " 'data': [{'list_id': '1',\n",
       "   'name': 'Новое название',\n",
       "   'description': 'Новое описание',\n",
       "   'type': 'Общий',\n",
       "   'genre': 'Action',\n",
       "   'year': nan,\n",
       "   'created_by': 505096036,\n",
       "   'created_at': '2024-12-22T12:51:49.268934',\n",
       "   'updated_at': '2024-12-22T13:06:43.348735+00:00'},\n",
       "  {'list_id': '2',\n",
       "   'name': 'Аниме для новичков',\n",
       "   'description': 'Идеальные тайтлы для начала знакомства с аниме',\n",
       "   'type': 'Для новичков',\n",
       "   'genre': nan,\n",
       "   'year': nan,\n",
       "   'created_by': 505096036,\n",
       "   'created_at': '2024-12-22T12:51:49.268939',\n",
       "   'updated_at': '2024-12-22T12:51:49.268939'},\n",
       "  {'list_id': '3',\n",
       "   'name': 'Лучшие комедии',\n",
       "   'description': 'Весёлые комедийные аниме',\n",
       "   'type': 'Комедия',\n",
       "   'genre': 'Comedy',\n",
       "   'year': 2023.0,\n",
       "   'created_by': 123456789,\n",
       "   'created_at': '2024-12-22T12:51:49.268940',\n",
       "   'updated_at': '2024-12-22T12:51:49.268941'},\n",
       "  {'list_id': '6c9aafe2-6e6c-42cc-b148-09de54da817a',\n",
       "   'name': 'Лучшие приключения',\n",
       "   'description': 'Этот список содержит аниме про приключения.',\n",
       "   'type': 'Приключения',\n",
       "   'genre': 'Adventure',\n",
       "   'year': 2022.0,\n",
       "   'created_by': 123456,\n",
       "   'created_at': '2024-12-22T14:57:17.214757+00:00',\n",
       "   'updated_at': '2024-12-22T14:57:17.214777+00:00'}],\n",
       " 'code': 200}"
      ]
     },
     "execution_count": 45,
     "metadata": {},
     "output_type": "execute_result"
    }
   ],
   "source": [
    "get_all_recommended_lists()"
   ]
  }
 ],
 "metadata": {
  "kernelspec": {
   "display_name": ".venv",
   "language": "python",
   "name": "python3"
  },
  "language_info": {
   "codemirror_mode": {
    "name": "ipython",
    "version": 3
   },
   "file_extension": ".py",
   "mimetype": "text/x-python",
   "name": "python",
   "nbconvert_exporter": "python",
   "pygments_lexer": "ipython3",
   "version": "3.9.6"
  }
 },
 "nbformat": 4,
 "nbformat_minor": 5
}
