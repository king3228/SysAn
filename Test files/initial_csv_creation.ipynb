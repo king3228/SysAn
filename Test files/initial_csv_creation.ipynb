{
 "cells": [
  {
   "cell_type": "code",
   "execution_count": null,
   "id": "initial_id",
   "metadata": {
    "collapsed": true
   },
   "outputs": [],
   "source": [
    "import boto3\n",
    "import os\n",
    "\n",
    "session = boto3.session.Session()\n",
    "s3 = session.client(\n",
    "    service_name='s3',\n",
    "    endpoint_url='https://storage.yandexcloud.net',\n",
    "    region_name='ru-central1',\n",
    "    aws_access_key_id=os.environ.get('ACCESS_KEY_ID'),\n",
    "    aws_secret_access_key=os.environ.get('ACCESS_SECRET_KEY')\n",
    ")\n",
    "\n",
    "BUCKET_NAME = 'bucket-first'\n",
    "\n",
    "def upload_empty_csv(file_name, file_key):\n",
    "    s3.put_object(Bucket=BUCKET_NAME, Key=file_key, Body=file_name)\n",
    "    print(f\"{file_key} uploaded to bucket {BUCKET_NAME}.\")\n",
    "\n",
    "# Определение пустых CSV строк\n",
    "users_csv = \"chat_id,shikimori_username,last_updated\\n\"\n",
    "anime_csv = \"anime_id,title,average_score,genres,type,episode_duration,episode_count,poster_url\\n\"\n",
    "user_anime_csv = \"user_anime_id,chat_id,anime_id,status,user_score\\n\"\n",
    "recommendations_csv = \"recommendation_id,user_id,anime_id,date_recommended,user_score\\n\"\n",
    "logs_csv = \"log_id,user_id,anime_id,action,details,timestamp\\n\"\n",
    "\n",
    "# Загрузка этих строк в S3, как пустые CSV файлы \n",
    "upload_empty_csv(users_csv, 'users.csv')\n",
    "upload_empty_csv(anime_csv, 'anime.csv')\n",
    "upload_empty_csv(user_anime_csv, 'user_anime.csv')\n",
    "upload_empty_csv(recommendations_csv, 'recommendations.csv')\n",
    "upload_empty_csv(logs_csv, 'logs.csv')"
   ]
  }
 ],
 "metadata": {
  "kernelspec": {
   "display_name": "Python 3",
   "language": "python",
   "name": "python3"
  },
  "language_info": {
   "codemirror_mode": {
    "name": "ipython",
    "version": 2
   },
   "file_extension": ".py",
   "mimetype": "text/x-python",
   "name": "python",
   "nbconvert_exporter": "python",
   "pygments_lexer": "ipython2",
   "version": "2.7.6"
  }
 },
 "nbformat": 4,
 "nbformat_minor": 5
}
