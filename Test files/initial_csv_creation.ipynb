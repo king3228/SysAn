{
 "cells": [
  {
   "cell_type": "code",
   "execution_count": 7,
   "id": "c5166a15",
   "metadata": {},
   "outputs": [],
   "source": [
    "from dotenv import load_dotenv\n",
    "import os\n",
    "\n",
    "load_dotenv('/Users/p.miroshin/Documents/Masters/2d_year/keys.env')\n",
    "\n",
    "ACCESS_SECRET_KEY = os.getenv(\"ACCESS_SECRET_KEY\")\n",
    "ACCESS_KEY_ID = os.getenv(\"ACCESS_KEY_ID\")"
   ]
  },
  {
   "cell_type": "code",
   "execution_count": 8,
   "id": "initial_id",
   "metadata": {
    "collapsed": true
   },
   "outputs": [],
   "source": [
    "import boto3\n",
    "\n",
    "session = boto3.session.Session()\n",
    "s3 = session.client(\n",
    "    service_name='s3',\n",
    "    endpoint_url='https://storage.yandexcloud.net',\n",
    "    region_name='ru-central1',\n",
    "    aws_access_key_id=os.environ.get('ACCESS_KEY_ID'),\n",
    "    aws_secret_access_key=os.environ.get('ACCESS_SECRET_KEY')\n",
    ")\n",
    "\n",
    "BUCKET_NAME = 'bucket-first'\n",
    "\n",
    "def upload_empty_csv(file_name, file_key):\n",
    "    s3.put_object(Bucket=BUCKET_NAME, Key=file_key, Body=file_name)\n",
    "    print(f\"{file_key} uploaded to bucket {BUCKET_NAME}.\")"
   ]
  },
  {
   "cell_type": "code",
   "execution_count": 9,
   "id": "2c2827e3",
   "metadata": {},
   "outputs": [],
   "source": [
    "users_csv = \"chat_id,shikimori_username,last_updated\\n\"\n",
    "anime_csv = \"anime_id,title,average_score,genres,type,episode_duration,episode_count,poster_url\\n\"\n",
    "user_anime_csv = \"user_anime_id,chat_id,anime_id,status,user_score\\n\"\n",
    "recommendations_csv = \"recommendation_id,user_id,anime_id,date_recommended,user_score\\n\"\n",
    "logs_csv = \"log_id,user_id,anime_id,action,details,timestamp\\n\""
   ]
  },
  {
   "cell_type": "code",
   "execution_count": 10,
   "id": "86132525",
   "metadata": {},
   "outputs": [
    {
     "name": "stdout",
     "output_type": "stream",
     "text": [
      "users.csv uploaded to bucket bucket-first.\n",
      "anime.csv uploaded to bucket bucket-first.\n",
      "user_anime.csv uploaded to bucket bucket-first.\n",
      "recommendations.csv uploaded to bucket bucket-first.\n",
      "logs.csv uploaded to bucket bucket-first.\n"
     ]
    }
   ],
   "source": [
    "upload_empty_csv(users_csv, 'users.csv')\n",
    "upload_empty_csv(anime_csv, 'anime.csv')\n",
    "upload_empty_csv(user_anime_csv, 'user_anime.csv')\n",
    "upload_empty_csv(recommendations_csv, 'recommendations.csv')\n",
    "upload_empty_csv(logs_csv, 'logs.csv')"
   ]
  }
 ],
 "metadata": {
  "kernelspec": {
   "display_name": ".venv",
   "language": "python",
   "name": "python3"
  },
  "language_info": {
   "codemirror_mode": {
    "name": "ipython",
    "version": 3
   },
   "file_extension": ".py",
   "mimetype": "text/x-python",
   "name": "python",
   "nbconvert_exporter": "python",
   "pygments_lexer": "ipython3",
   "version": "3.9.6"
  }
 },
 "nbformat": 4,
 "nbformat_minor": 5
}
